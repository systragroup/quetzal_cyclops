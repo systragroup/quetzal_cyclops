{
 "cells": [
  {
   "cell_type": "code",
   "execution_count": 7,
   "id": "d24cb93c",
   "metadata": {},
   "outputs": [],
   "source": [
    "import os\n",
    "import sys\n",
    "import json\n",
    "import geopandas as gpd\n",
    "sys.path.insert(0, r'../../../osm-api/') # Add path to quetzal\n",
    "from main import *"
   ]
  },
  {
   "cell_type": "code",
   "execution_count": 8,
   "id": "ee64206c",
   "metadata": {},
   "outputs": [],
   "source": [
    "road_folder = '../../inputs/road/'\n",
    "zones_folder = '../../inputs/zones/'"
   ]
  },
  {
   "cell_type": "markdown",
   "id": "34e67ec0",
   "metadata": {},
   "source": [
    "# OVERPASS api fetch"
   ]
  },
  {
   "cell_type": "code",
   "execution_count": 9,
   "id": "c01cd11f",
   "metadata": {},
   "outputs": [],
   "source": [
    "bbox = [45.39, -74, 45.71, -73.33]\n",
    "bbox = (*bbox,)"
   ]
  },
  {
   "cell_type": "code",
   "execution_count": 10,
   "id": "be35e91c",
   "metadata": {},
   "outputs": [],
   "source": [
    "columns = ['highway', 'maxspeed', 'lanes', 'name', 'oneway', 'surface']\n",
    "cycleway_columns = ['cycleway:both', 'cycleway:left','cycleway:right']\n",
    "columns += cycleway_columns\n",
    "columns += ['cycleway']"
   ]
  },
  {
   "cell_type": "code",
   "execution_count": 11,
   "id": "1cc391bc",
   "metadata": {},
   "outputs": [],
   "source": [
    "highway_list = [\"motorway\", \"motorway_link\", \"trunk\", \"trunk_link\", \"primary\", \"primary_link\", \n",
    "                  \"secondary\", \"secondary_link\", \"tertiary\", \"tertiary_link\", \"residential\",\"cycleway\"]\n",
    "                \n",
    "cycleway_list = [\"lane\", \"opposite\", \"opposite_lane\", \"track\", \"opposite_track\", \n",
    "                \"share_busway\", \"opposite_share_busway\", \"shared_lane\"]"
   ]
  },
  {
   "cell_type": "code",
   "execution_count": 14,
   "id": "ca3565d3",
   "metadata": {},
   "outputs": [
    {
     "name": "stdout",
     "output_type": "stream",
     "text": [
      "OVERPASS Request ...\n",
      "Convert to GeoPandas ...\n"
     ]
    },
    {
     "name": "stderr",
     "output_type": "stream",
     "text": [
      "/home/boivin/.pyenv/versions/3.8.6/envs/quetzal_env/lib/python3.8/site-packages/pandas/core/dtypes/cast.py:127: ShapelyDeprecationWarning: The array interface is deprecated and will no longer work in Shapely 2.0. Convert the '.coords' to a numpy array instead.\n",
      "  arr = construct_1d_object_array_from_listlike(values)\n"
     ]
    },
    {
     "name": "stdout",
     "output_type": "stream",
     "text": [
      "Write (way.geojson) ...\n",
      "Convert ways to links and node ...\n"
     ]
    }
   ],
   "source": [
    "if True:\n",
    "    links,nodes = osm_importer(bbox,highway_list,cycleway_list,road_folder)"
   ]
  },
  {
   "cell_type": "markdown",
   "id": "7933e22f",
   "metadata": {},
   "source": [
    "# Process OSM network"
   ]
  },
  {
   "cell_type": "code",
   "execution_count": 15,
   "id": "d389eed3",
   "metadata": {},
   "outputs": [],
   "source": [
    "links, nodes = get_links_and_nodes(os.path.join(road_folder, 'way.geojson'), split_direction=False)\n",
    "nodes = nodes.set_crs(links.crs)"
   ]
  },
  {
   "cell_type": "code",
   "execution_count": 16,
   "id": "22107f27",
   "metadata": {},
   "outputs": [
    {
     "name": "stderr",
     "output_type": "stream",
     "text": [
      "/home/boivin/.pyenv/versions/3.8.6/envs/quetzal_env/lib/python3.8/site-packages/IPython/core/interactiveshell.py:3445: FutureWarning: The `op` parameter is deprecated and will be removed in a future release. Please use the `predicate` parameter instead.\n",
      "  if await self.run_code(code, result, async_=asy):\n"
     ]
    }
   ],
   "source": [
    "zones = gpd.read_file(zones_folder+'montreal.geojson').to_crs(4326)\n",
    "links = gpd.sjoin(links, zones, how='inner', op='intersects').drop(columns = ['index_right','id'])\n"
   ]
  },
  {
   "cell_type": "code",
   "execution_count": null,
   "id": "586ee43f",
   "metadata": {},
   "outputs": [],
   "source": []
  },
  {
   "cell_type": "markdown",
   "id": "0f2ca6f4",
   "metadata": {},
   "source": [
    "# process"
   ]
  },
  {
   "cell_type": "code",
   "execution_count": 17,
   "id": "a5c6d2d1",
   "metadata": {},
   "outputs": [],
   "source": [
    "#links,nodes = osm_simplify(links,nodes,highway_list,True)"
   ]
  },
  {
   "cell_type": "code",
   "execution_count": 18,
   "id": "78ddf404",
   "metadata": {},
   "outputs": [],
   "source": [
    "CYCLEWAY_COLUMNS = ['cycleway:both', 'cycleway:left','cycleway:right']"
   ]
  },
  {
   "cell_type": "code",
   "execution_count": 21,
   "id": "cad778f2",
   "metadata": {},
   "outputs": [
    {
     "data": {
      "text/plain": [
       "array([nan, 'lane', 'shared_lane', 'no', 'track', 'crossing',\n",
       "       'cyclestreet', 'share_busway', 'separate', 'opposite', 'shared',\n",
       "       'use_sidepath'], dtype=object)"
      ]
     },
     "execution_count": 21,
     "metadata": {},
     "output_type": "execute_result"
    }
   ],
   "source": [
    "links['cycleway'].unique()"
   ]
  },
  {
   "cell_type": "code",
   "execution_count": null,
   "id": "a4ba6b16",
   "metadata": {},
   "outputs": [],
   "source": []
  },
  {
   "cell_type": "code",
   "execution_count": null,
   "id": "041c2cfe",
   "metadata": {},
   "outputs": [],
   "source": []
  },
  {
   "cell_type": "code",
   "execution_count": 18,
   "id": "daa217bd",
   "metadata": {},
   "outputs": [
    {
     "name": "stdout",
     "output_type": "stream",
     "text": [
      "['no', 'yes', 'shared']\n",
      "['no', 'yes', 'shared']\n",
      "['no', 'yes', 'shared']\n",
      "['no', 'yes', 'shared']\n",
      "0 geometry to inverse\n",
      "simplifying links ...\n",
      "375 links dropped\n",
      "25420 deg 2 nodes\n",
      "find path with large cutoff for 9  origins\n",
      "find path with large cutoff for 4  origins\n",
      "find path with large cutoff for 2  origins\n",
      "find path with large cutoff for 2  origins\n",
      "find path with large cutoff for 6  origins\n",
      "find path with large cutoff for 2  origins\n",
      "find path with large cutoff for 1  origins\n",
      "find path with large cutoff for 3  origins\n",
      "find path with large cutoff for 2  origins\n",
      "find path with large cutoff for 18  origins\n",
      "0 links were not merge because the oneway field is not the same\n",
      "0 links were not merge because the highway field is not the same\n",
      "0 merged_links unmerged because the geometry became a multilinestring\n"
     ]
    }
   ],
   "source": [
    "links = test_bicycle_process(links, CYCLEWAY_COLUMNS, highway_list)\n",
    "\n",
    "# convert oneway to bool.\n",
    "links = clean_oneway(links)\n",
    "\n",
    "#remove string in maxspeed\n",
    "links = clean_maxspeed(links)\n",
    "\n",
    "#remove string in maxspeed\n",
    "links = clean_lanes(links)\n",
    "\n",
    "# make sure the geometry are in the right direction (a->b)\n",
    "links = rectify_geometry_direction(links,nodes)\n",
    "\n",
    "# remove duplicated links (a-b)\n",
    "print(\"simplifying links ...\")\n",
    "links = drop_duplicated_links(links)\n",
    "\n",
    "# simplify. remove deg 2 nodes when possible. group by oneway and highway to merge each links.\n",
    "links = simplify(links)\n",
    "\n"
   ]
  },
  {
   "cell_type": "code",
   "execution_count": null,
   "id": "fddf4bf8",
   "metadata": {},
   "outputs": [],
   "source": []
  },
  {
   "cell_type": "code",
   "execution_count": 19,
   "id": "d02a66d1",
   "metadata": {},
   "outputs": [
    {
     "name": "stdout",
     "output_type": "stream",
     "text": [
      "Remove Cul de Sac ...\n"
     ]
    }
   ],
   "source": [
    "# split onwway into 2 links a-b, b-a\n",
    "#links = split_oneway(links)\n",
    "\n",
    "# Clean Cul de Sac\n",
    "print(\"Remove Cul de Sac ...\")\n",
    "links, nodes = main_strongly_connected_component(links, nodes, split_direction=True)"
   ]
  },
  {
   "cell_type": "code",
   "execution_count": null,
   "id": "01a1ebd8",
   "metadata": {},
   "outputs": [],
   "source": []
  },
  {
   "cell_type": "code",
   "execution_count": 21,
   "id": "b4355d56",
   "metadata": {},
   "outputs": [
    {
     "name": "stdout",
     "output_type": "stream",
     "text": [
      "Write Links and Nodes ...\n"
     ]
    }
   ],
   "source": [
    "print('removing list in columns ...')\n",
    "links['maxspeed'] = links['maxspeed'].apply(lambda x: process_list_in_col(x, float, np.nanmean))\n",
    "links['lanes'] = links['lanes'].apply(lambda x: process_list_in_col(x, float, lambda x: np.floor(np.nanmean(x))))\n",
    "if 'cycleway' in links.columns:\n",
    "    # sort and take last. sorted = [no,shared,yes]. so yes or shared if there is a list\n",
    "    links['cycleway'] = links['cycleway'].apply(lambda x: process_list_in_col(x,str,lambda x: np.sort(x)[-1]))\n",
    "    links['cycleway_reverse'] = links['cycleway_reverse'].apply(lambda x: process_list_in_col(x,str,lambda x: np.sort(x)[-1]))\n",
    "\n",
    "for col in ['highway','name','surface']:\n",
    "    links[col] = links[col].apply(lambda x: remove_list_in_col(x,'first'))\n",
    "\n",
    "\n",
    "# Fill NaN with mean values by highway\n",
    "links = fill_na_col(links, 'highway', 'maxspeed', np.mean)\n",
    "links = fill_na_col(links, 'highway', 'lanes', lambda x: np.floor(np.mean(x)))\n",
    "\n",
    "# Add length\n",
    "print(\"Write Links and Nodes ...\")\n",
    "epsg = get_epsg(nodes.iloc[0]['geometry'].y, nodes.iloc[0]['geometry'].x)\n",
    "links['length'] = links.to_crs(epsg).length\n",
    "\n",
    "# Add Time\n",
    "links['time'] = links['length']/(links['maxspeed']*1000/3600)\n",
    "links = links.rename(columns = {'maxspeed' : 'speed'})\n",
    "\n",
    "# reindex and remove ununsed nodes\n",
    "links = links.reset_index(drop=True)\n",
    "links.index = 'road_link_'+links.index.astype(str)\n",
    "nodes_set = set(links['a']).union(set(links['b']))\n",
    "nodes = nodes.loc[list(nodes_set)].sort_index()"
   ]
  },
  {
   "cell_type": "code",
   "execution_count": 22,
   "id": "b45a2df8",
   "metadata": {},
   "outputs": [
    {
     "name": "stdout",
     "output_type": "stream",
     "text": [
      "Adding elevation\n",
      "file save to /tmp\n"
     ]
    }
   ],
   "source": [
    "print('Adding elevation')\n",
    "el_dict = get_elevation_from_srtm(nodes)\n",
    "nodes['elevation'] = nodes.index.map(el_dict.get)\n",
    "# incline from node a to b in deg. neg if going down (if b is lower dans a)\n",
    "links['incline'] = calc_incline(links['a'].apply(lambda x: el_dict.get(x)).values,\n",
    "                            links['b'].apply(lambda x: el_dict.get(x)).values,\n",
    "                            links['length'].values)\n"
   ]
  },
  {
   "cell_type": "code",
   "execution_count": 23,
   "id": "db922b51",
   "metadata": {},
   "outputs": [],
   "source": [
    "from road import get_columns_with_list"
   ]
  },
  {
   "cell_type": "code",
   "execution_count": 24,
   "id": "86ca8be8",
   "metadata": {},
   "outputs": [
    {
     "data": {
      "text/plain": [
       "[]"
      ]
     },
     "execution_count": 24,
     "metadata": {},
     "output_type": "execute_result"
    }
   ],
   "source": [
    "get_columns_with_list(links)"
   ]
  },
  {
   "cell_type": "code",
   "execution_count": null,
   "id": "00ba552a",
   "metadata": {},
   "outputs": [],
   "source": [
    "links.geometry = links.simplify(0.00005)"
   ]
  },
  {
   "cell_type": "code",
   "execution_count": 43,
   "id": "0f51909f",
   "metadata": {},
   "outputs": [],
   "source": [
    "links.to_file(road_folder+'road_links.geojson',driver='GeoJSON')\n",
    "nodes.to_file(road_folder+'road_nodes.geojson',driver='GeoJSON')"
   ]
  },
  {
   "cell_type": "code",
   "execution_count": 41,
   "id": "1ca04f8f",
   "metadata": {},
   "outputs": [],
   "source": []
  },
  {
   "cell_type": "code",
   "execution_count": 42,
   "id": "53b52600",
   "metadata": {},
   "outputs": [],
   "source": []
  },
  {
   "cell_type": "code",
   "execution_count": null,
   "id": "a5439ad1",
   "metadata": {},
   "outputs": [],
   "source": []
  },
  {
   "cell_type": "code",
   "execution_count": null,
   "id": "0eeba21a",
   "metadata": {},
   "outputs": [],
   "source": []
  },
  {
   "cell_type": "code",
   "execution_count": null,
   "id": "4950ff7b",
   "metadata": {},
   "outputs": [],
   "source": []
  }
 ],
 "metadata": {
  "kernelspec": {
   "display_name": "Python 3 (ipykernel)",
   "language": "python",
   "name": "python3"
  },
  "language_info": {
   "codemirror_mode": {
    "name": "ipython",
    "version": 3
   },
   "file_extension": ".py",
   "mimetype": "text/x-python",
   "name": "python",
   "nbconvert_exporter": "python",
   "pygments_lexer": "ipython3",
   "version": "3.8.6"
  }
 },
 "nbformat": 4,
 "nbformat_minor": 5
}
