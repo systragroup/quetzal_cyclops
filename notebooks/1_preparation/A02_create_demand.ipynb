{
 "cells": [
  {
   "cell_type": "code",
   "execution_count": 202,
   "id": "3cc24ee9",
   "metadata": {},
   "outputs": [],
   "source": [
    "import os\n",
    "import sys\n",
    "import json\n",
    "import geopandas as gpd\n",
    "import pandas as pd\n",
    "sys.path.insert(0, r'../../../quetzal') # Add path to quetzal\n",
    "from quetzal.engine import road_model\n",
    "import random\n",
    "\n",
    "sys.path.insert(0, r'../../../osm-api/') # Add path to quetzal\n",
    "from sklearn.cluster import KMeans\n",
    "from shapely.geometry import Point\n",
    "import numpy as np"
   ]
  },
  {
   "cell_type": "code",
   "execution_count": 224,
   "id": "55f11f5f",
   "metadata": {},
   "outputs": [],
   "source": [
    "road_folder = '../../inputs/road/'\n",
    "demand_folder = '../../inputs/'\n",
    "zones_folder = '../../inputs/zones/'"
   ]
  },
  {
   "cell_type": "code",
   "execution_count": 225,
   "id": "5e21f095",
   "metadata": {},
   "outputs": [],
   "source": [
    "nodes = gpd.read_file(road_folder + 'road_nodes.geojson')"
   ]
  },
  {
   "cell_type": "code",
   "execution_count": null,
   "id": "85487ded",
   "metadata": {},
   "outputs": [],
   "source": []
  },
  {
   "cell_type": "code",
   "execution_count": 226,
   "id": "eaa2b001",
   "metadata": {},
   "outputs": [],
   "source": [
    "def create_zones_from_nodes(nodes,num_zones=200):\n",
    "    nodes['x'] = nodes['geometry'].apply(lambda p:p.x)\n",
    "    nodes['y'] = nodes['geometry'].apply(lambda p:p.y)\n",
    "    cluster = KMeans(n_clusters=num_zones,random_state=0,n_init='auto')\n",
    "    cluster.fit(nodes[['x','y']].values)\n",
    "    geom = [Point(val) for val in cluster.cluster_centers_]\n",
    "    zones = gpd.GeoDataFrame(range(len(geom)),geometry=geom,crs=4326).drop(columns=0)\n",
    "    zones.index = 'zone_' + zones.index.astype(str)\n",
    "    return zones"
   ]
  },
  {
   "cell_type": "code",
   "execution_count": 227,
   "id": "3fa0c3c3",
   "metadata": {},
   "outputs": [],
   "source": [
    "zones = create_zones_from_nodes(nodes)\n",
    "zones.crs=4326"
   ]
  },
  {
   "cell_type": "code",
   "execution_count": 228,
   "id": "5115beba",
   "metadata": {},
   "outputs": [
    {
     "data": {
      "text/plain": [
       "<Axes: >"
      ]
     },
     "execution_count": 228,
     "metadata": {},
     "output_type": "execute_result"
    },
    {
     "data": {
      "image/png": "[encoded data removed]",
      "text/plain": [
       "<Figure size 640x480 with 1 Axes>"
      ]
     },
     "metadata": {},
     "output_type": "display_data"
    }
   ],
   "source": [
    "zones.plot()"
   ]
  },
  {
   "cell_type": "code",
   "execution_count": 229,
   "id": "29ecdd1b",
   "metadata": {},
   "outputs": [],
   "source": [
    "#zones.to_file(demand_folder + 'centroids.geojson',driver='GeoJSON')"
   ]
  },
  {
   "cell_type": "markdown",
   "id": "418daf61",
   "metadata": {},
   "source": [
    "# create a demand"
   ]
  },
  {
   "cell_type": "code",
   "execution_count": 230,
   "id": "fc003c07",
   "metadata": {},
   "outputs": [],
   "source": [
    "zones_list = zones.index\n",
    "odv=[]\n",
    "for i in range(1000):\n",
    "    o = zones_list[random.randint(0,len(zones)-1)]\n",
    "    d = zones_list[random.randint(0,len(zones)-1)]\n",
    "    v = random.randint(0,100)\n",
    "    odv.append({'origin':o,'destination':d,'volume':v})\n",
    "demand = pd.DataFrame(odv)\n",
    "demand.index.name='index'"
   ]
  },
  {
   "cell_type": "code",
   "execution_count": null,
   "id": "1e419180",
   "metadata": {},
   "outputs": [],
   "source": []
  },
  {
   "cell_type": "code",
   "execution_count": 231,
   "id": "1d399b76",
   "metadata": {},
   "outputs": [],
   "source": [
    "#demand.to_csv(demand_folder + 'demand.csv')"
   ]
  },
  {
   "cell_type": "code",
   "execution_count": null,
   "id": "b8d26e6f",
   "metadata": {},
   "outputs": [],
   "source": []
  },
  {
   "cell_type": "markdown",
   "id": "7ed44c33",
   "metadata": {},
   "source": [
    "# export demand as json for quenedi"
   ]
  },
  {
   "cell_type": "code",
   "execution_count": 232,
   "id": "a3578268",
   "metadata": {},
   "outputs": [],
   "source": [
    "# Group the DataFrame by \"origin\" and \"destination\", and then convert to JSON\n",
    "grouped = demand.groupby([\"origin\", \"destination\"])[\"volume\"].sum().reset_index()\n",
    "json_data = {}\n",
    "for _, row in grouped.iterrows():\n",
    "    origin = row[\"origin\"]\n",
    "    destination = row[\"destination\"]\n",
    "    volume = row[\"volume\"]\n",
    "    if origin not in json_data:\n",
    "        json_data[origin] = {}\n",
    "    json_data[origin][destination] = volume\n",
    "\n",
    "    \n",
    "#with open(demand_folder + 'zones.json', 'w') as json_file:\n",
    "    #json.dump({'volume':json_data},json_file)"
   ]
  },
  {
   "cell_type": "markdown",
   "id": "414cdab4",
   "metadata": {},
   "source": [
    "# voronoi for zone instead of centroid"
   ]
  },
  {
   "cell_type": "code",
   "execution_count": 233,
   "id": "7888bd1a",
   "metadata": {},
   "outputs": [],
   "source": [
    "from syspy.spatial.spatial import voronoi_diagram_dataframes, voronoi_diagram"
   ]
  },
  {
   "cell_type": "code",
   "execution_count": 234,
   "id": "158c74a0",
   "metadata": {},
   "outputs": [
    {
     "name": "stderr",
     "output_type": "stream",
     "text": [
      "/home/boivin/.pyenv/versions/quetzal_env/lib/python3.8/site-packages/pandas/core/dtypes/cast.py:127: ShapelyDeprecationWarning: The array interface is deprecated and will no longer work in Shapely 2.0. Convert the '.coords' to a numpy array instead.\n",
      "  arr = construct_1d_object_array_from_listlike(values)\n"
     ]
    }
   ],
   "source": [
    "voronoi = voronoi_diagram_dataframes(zones['geometry'])"
   ]
  },
  {
   "cell_type": "code",
   "execution_count": 235,
   "id": "9bb908c2",
   "metadata": {},
   "outputs": [],
   "source": [
    "voronoi = gpd.GeoDataFrame(voronoi[0],crs=4326)"
   ]
  },
  {
   "cell_type": "code",
   "execution_count": 236,
   "id": "654c4486",
   "metadata": {},
   "outputs": [],
   "source": [
    "hull = gpd.read_file(zones_folder+'montreal.geojson').to_crs(4326)\n",
    "voronoi = voronoi.clip(hull)"
   ]
  },
  {
   "cell_type": "code",
   "execution_count": 237,
   "id": "3e7c290e",
   "metadata": {},
   "outputs": [
    {
     "data": {
      "text/plain": [
       "<Axes: >"
      ]
     },
     "execution_count": 237,
     "metadata": {},
     "output_type": "execute_result"
    },
    {
     "data": {
      "image/png": "[encoded data removed]",
      "text/plain": [
       "<Figure size 640x480 with 1 Axes>"
      ]
     },
     "metadata": {},
     "output_type": "display_data"
    }
   ],
   "source": [
    "voronoi.plot()"
   ]
  },
  {
   "cell_type": "code",
   "execution_count": 238,
   "id": "b7dc80ca",
   "metadata": {},
   "outputs": [],
   "source": [
    "#voronoi.to_file(demand_folder + 'zones.geojson',driver='GeoJSON')"
   ]
  },
  {
   "cell_type": "code",
   "execution_count": null,
   "id": "e59efab4",
   "metadata": {},
   "outputs": [],
   "source": []
  },
  {
   "cell_type": "code",
   "execution_count": 239,
   "id": "1facc2e5",
   "metadata": {},
   "outputs": [],
   "source": [
    "#from syspy.spatial.spatial import add_geometry_coordinates"
   ]
  },
  {
   "cell_type": "markdown",
   "id": "7183bb41",
   "metadata": {},
   "source": [
    "# create random od test"
   ]
  },
  {
   "cell_type": "code",
   "execution_count": 240,
   "id": "6b8bfd52",
   "metadata": {},
   "outputs": [],
   "source": [
    "def noise():\n",
    "    return np.random.normal(0,0.01,1)[0]\n"
   ]
  },
  {
   "cell_type": "code",
   "execution_count": 241,
   "id": "280f3d67",
   "metadata": {},
   "outputs": [],
   "source": [
    "od_test=[]\n",
    "for k in range(10):\n",
    "    i = random.randint(0,len(nodes)-1)\n",
    "    j = random.randint(0,len(nodes)-1)\n",
    "    xo = nodes.iloc[i]['x'] + noise()\n",
    "    yo = nodes.iloc[i]['y'] + noise()\n",
    "    xd = nodes.iloc[j]['x'] + noise()\n",
    "    yd = nodes.iloc[j]['y'] + noise()\n",
    "    od_test.append({'name':'OD_'+str(k),'xo':xo,'yo':yo,'xd':xd,'yd':yd})\n",
    "od_test.append({'name':'OD_SF','xo':-73.58439728314566,'yo':45.53768657307723,'xd':-73.570456710056,'yd':45.498204387032764})\n",
    "od_test.append({'name':'OD_SB','xo':-73.54425385513646,'yo':45.5525182030598,'xd':-73.570456710056,'yd':45.498204387032764})\n",
    "od_test.append({'name':'OD_SB2','xo':-73.54425385513646,'yo':45.5525182030598,'xd':-73.61775131909698,'yd':45.53536314933729})\n",
    "\n",
    "od_test = pd.DataFrame(od_test)\n",
    "od_test.index.name='index'"
   ]
  },
  {
   "cell_type": "code",
   "execution_count": 242,
   "id": "a3484aab",
   "metadata": {},
   "outputs": [
    {
     "data": {
      "text/html": [
       "<div>\n",
       "<style scoped>\n",
       "    .dataframe tbody tr th:only-of-type {\n",
       "        vertical-align: middle;\n",
       "    }\n",
       "\n",
       "    .dataframe tbody tr th {\n",
       "        vertical-align: top;\n",
       "    }\n",
       "\n",
       "    .dataframe thead th {\n",
       "        text-align: right;\n",
       "    }\n",
       "</style>\n",
       "<table border=\"1\" class=\"dataframe\">\n",
       "  <thead>\n",
       "    <tr style=\"text-align: right;\">\n",
       "      <th></th>\n",
       "      <th>name</th>\n",
       "      <th>xo</th>\n",
       "      <th>yo</th>\n",
       "      <th>xd</th>\n",
       "      <th>yd</th>\n",
       "    </tr>\n",
       "    <tr>\n",
       "      <th>index</th>\n",
       "      <th></th>\n",
       "      <th></th>\n",
       "      <th></th>\n",
       "      <th></th>\n",
       "      <th></th>\n",
       "    </tr>\n",
       "  </thead>\n",
       "  <tbody>\n",
       "    <tr>\n",
       "      <th>0</th>\n",
       "      <td>OD_0</td>\n",
       "      <td>-73.646573</td>\n",
       "      <td>45.564648</td>\n",
       "      <td>-73.656808</td>\n",
       "      <td>45.433709</td>\n",
       "    </tr>\n",
       "    <tr>\n",
       "      <th>1</th>\n",
       "      <td>OD_1</td>\n",
       "      <td>-73.637414</td>\n",
       "      <td>45.517892</td>\n",
       "      <td>-73.576498</td>\n",
       "      <td>45.557534</td>\n",
       "    </tr>\n",
       "    <tr>\n",
       "      <th>2</th>\n",
       "      <td>OD_2</td>\n",
       "      <td>-73.614244</td>\n",
       "      <td>45.511957</td>\n",
       "      <td>-73.861912</td>\n",
       "      <td>45.443598</td>\n",
       "    </tr>\n",
       "    <tr>\n",
       "      <th>3</th>\n",
       "      <td>OD_3</td>\n",
       "      <td>-73.698046</td>\n",
       "      <td>45.537066</td>\n",
       "      <td>-73.599178</td>\n",
       "      <td>45.551437</td>\n",
       "    </tr>\n",
       "    <tr>\n",
       "      <th>4</th>\n",
       "      <td>OD_4</td>\n",
       "      <td>-73.824327</td>\n",
       "      <td>45.441889</td>\n",
       "      <td>-73.616070</td>\n",
       "      <td>45.523945</td>\n",
       "    </tr>\n",
       "    <tr>\n",
       "      <th>5</th>\n",
       "      <td>OD_5</td>\n",
       "      <td>-73.560779</td>\n",
       "      <td>45.480897</td>\n",
       "      <td>-73.550398</td>\n",
       "      <td>45.564241</td>\n",
       "    </tr>\n",
       "    <tr>\n",
       "      <th>6</th>\n",
       "      <td>OD_6</td>\n",
       "      <td>-73.586174</td>\n",
       "      <td>45.597352</td>\n",
       "      <td>-73.578835</td>\n",
       "      <td>45.532771</td>\n",
       "    </tr>\n",
       "    <tr>\n",
       "      <th>7</th>\n",
       "      <td>OD_7</td>\n",
       "      <td>-73.671690</td>\n",
       "      <td>45.481585</td>\n",
       "      <td>-73.520542</td>\n",
       "      <td>45.616217</td>\n",
       "    </tr>\n",
       "    <tr>\n",
       "      <th>8</th>\n",
       "      <td>OD_8</td>\n",
       "      <td>-73.606189</td>\n",
       "      <td>45.602911</td>\n",
       "      <td>-73.560594</td>\n",
       "      <td>45.607795</td>\n",
       "    </tr>\n",
       "    <tr>\n",
       "      <th>9</th>\n",
       "      <td>OD_9</td>\n",
       "      <td>-73.720678</td>\n",
       "      <td>45.514355</td>\n",
       "      <td>-73.863263</td>\n",
       "      <td>45.505461</td>\n",
       "    </tr>\n",
       "    <tr>\n",
       "      <th>10</th>\n",
       "      <td>OD_SF</td>\n",
       "      <td>-73.584397</td>\n",
       "      <td>45.537687</td>\n",
       "      <td>-73.570457</td>\n",
       "      <td>45.498204</td>\n",
       "    </tr>\n",
       "    <tr>\n",
       "      <th>11</th>\n",
       "      <td>OD_SB</td>\n",
       "      <td>-73.544254</td>\n",
       "      <td>45.552518</td>\n",
       "      <td>-73.570457</td>\n",
       "      <td>45.498204</td>\n",
       "    </tr>\n",
       "    <tr>\n",
       "      <th>12</th>\n",
       "      <td>OD_SB2</td>\n",
       "      <td>-73.544254</td>\n",
       "      <td>45.552518</td>\n",
       "      <td>-73.617751</td>\n",
       "      <td>45.535363</td>\n",
       "    </tr>\n",
       "  </tbody>\n",
       "</table>\n",
       "</div>"
      ],
      "text/plain": [
       "         name         xo         yo         xd         yd\n",
       "index                                                    \n",
       "0        OD_0 -73.646573  45.564648 -73.656808  45.433709\n",
       "1        OD_1 -73.637414  45.517892 -73.576498  45.557534\n",
       "2        OD_2 -73.614244  45.511957 -73.861912  45.443598\n",
       "3        OD_3 -73.698046  45.537066 -73.599178  45.551437\n",
       "4        OD_4 -73.824327  45.441889 -73.616070  45.523945\n",
       "5        OD_5 -73.560779  45.480897 -73.550398  45.564241\n",
       "6        OD_6 -73.586174  45.597352 -73.578835  45.532771\n",
       "7        OD_7 -73.671690  45.481585 -73.520542  45.616217\n",
       "8        OD_8 -73.606189  45.602911 -73.560594  45.607795\n",
       "9        OD_9 -73.720678  45.514355 -73.863263  45.505461\n",
       "10      OD_SF -73.584397  45.537687 -73.570457  45.498204\n",
       "11      OD_SB -73.544254  45.552518 -73.570457  45.498204\n",
       "12     OD_SB2 -73.544254  45.552518 -73.617751  45.535363"
      ]
     },
     "execution_count": 242,
     "metadata": {},
     "output_type": "execute_result"
    }
   ],
   "source": [
    "od_test"
   ]
  },
  {
   "cell_type": "code",
   "execution_count": null,
   "id": "79627628",
   "metadata": {},
   "outputs": [],
   "source": []
  },
  {
   "cell_type": "code",
   "execution_count": 245,
   "id": "def31043",
   "metadata": {},
   "outputs": [],
   "source": [
    "od_test.to_csv(demand_folder + 'od_test.csv')\n"
   ]
  },
  {
   "cell_type": "markdown",
   "id": "612b68d2",
   "metadata": {},
   "source": [
    "# create demand as xo,yo,xd,yd"
   ]
  },
  {
   "cell_type": "code",
   "execution_count": 246,
   "id": "bc1c5ab3",
   "metadata": {},
   "outputs": [],
   "source": [
    "new_demand=[]\n",
    "for k in range(10000):\n",
    "    i = random.randint(0,len(nodes)-1)\n",
    "    j = random.randint(0,len(nodes)-1)\n",
    "    xo = nodes.iloc[i]['x']\n",
    "    yo = nodes.iloc[i]['y'] \n",
    "    xd = nodes.iloc[j]['x'] \n",
    "    yd = nodes.iloc[j]['y'] \n",
    "    new_demand.append({'xo':xo,'yo':yo,'xd':xd,'yd':yd,'volume':random.randint(0,100)})\n",
    "\n",
    "new_demand = pd.DataFrame(new_demand)\n",
    "new_demand.index.name='index'"
   ]
  },
  {
   "cell_type": "code",
   "execution_count": 247,
   "id": "84fbc088",
   "metadata": {},
   "outputs": [],
   "source": [
    "demand = new_demand"
   ]
  },
  {
   "cell_type": "code",
   "execution_count": 248,
   "id": "ff89b9c7",
   "metadata": {},
   "outputs": [],
   "source": [
    "demand.to_csv(demand_folder+'demand.csv')"
   ]
  },
  {
   "cell_type": "code",
   "execution_count": 257,
   "id": "a6d6f6bb",
   "metadata": {},
   "outputs": [],
   "source": [
    "x_lim = [-71.331424, -71.1962195]\n",
    "y_lim = [46.7818178, 46.825208]"
   ]
  },
  {
   "cell_type": "code",
   "execution_count": 262,
   "id": "2086b596",
   "metadata": {},
   "outputs": [],
   "source": [
    "new_demand=[]\n",
    "for k in range(10000):\n",
    "    xo = random.randint(np.round(x_lim[0]*1e6),np.round(x_lim[1]*1e6))/1e6\n",
    "    yo = random.randint(np.round(y_lim[0]*1e6),np.round(y_lim[1]*1e6))/1e6\n",
    "    xd = random.randint(np.round(x_lim[0]*1e6),np.round(x_lim[1]*1e6))/1e6\n",
    "    yd = random.randint(np.round(y_lim[0]*1e6),np.round(y_lim[1]*1e6))/1e6\n",
    "    new_demand.append({'xo':xo,'yo':yo,'xd':xd,'yd':yd,'volume':random.randint(0,100)})\n",
    "\n",
    "new_demand = pd.DataFrame(new_demand)\n",
    "new_demand.index.name='index'"
   ]
  },
  {
   "cell_type": "code",
   "execution_count": 267,
   "id": "13120f02",
   "metadata": {},
   "outputs": [],
   "source": [
    "new_demand.to_csv('../../test/demand_qc.csv')"
   ]
  },
  {
   "cell_type": "code",
   "execution_count": 268,
   "id": "fa74bf0f",
   "metadata": {},
   "outputs": [],
   "source": [
    "od_test=[]\n",
    "for k in range(10):\n",
    "    xo = random.randint(np.round(x_lim[0]*1e6),np.round(x_lim[1]*1e6))/1e6\n",
    "    yo = random.randint(np.round(y_lim[0]*1e6),np.round(y_lim[1]*1e6))/1e6\n",
    "    xd = random.randint(np.round(x_lim[0]*1e6),np.round(x_lim[1]*1e6))/1e6\n",
    "    yd = random.randint(np.round(y_lim[0]*1e6),np.round(y_lim[1]*1e6))/1e6\n",
    "    od_test.append({'name':'OD_'+str(k),'xo':xo,'yo':yo,'xd':xd,'yd':yd})\n",
    "\n",
    "od_test = pd.DataFrame(od_test)\n",
    "od_test.index.name='index'"
   ]
  },
  {
   "cell_type": "code",
   "execution_count": 269,
   "id": "37cfaa8b",
   "metadata": {},
   "outputs": [],
   "source": [
    "od_test.to_csv('../../test/od_test.csv')\n"
   ]
  },
  {
   "cell_type": "code",
   "execution_count": 270,
   "id": "a315a511",
   "metadata": {},
   "outputs": [
    {
     "data": {
      "text/html": [
       "<div>\n",
       "<style scoped>\n",
       "    .dataframe tbody tr th:only-of-type {\n",
       "        vertical-align: middle;\n",
       "    }\n",
       "\n",
       "    .dataframe tbody tr th {\n",
       "        vertical-align: top;\n",
       "    }\n",
       "\n",
       "    .dataframe thead th {\n",
       "        text-align: right;\n",
       "    }\n",
       "</style>\n",
       "<table border=\"1\" class=\"dataframe\">\n",
       "  <thead>\n",
       "    <tr style=\"text-align: right;\">\n",
       "      <th></th>\n",
       "      <th>name</th>\n",
       "      <th>xo</th>\n",
       "      <th>yo</th>\n",
       "      <th>xd</th>\n",
       "      <th>yd</th>\n",
       "    </tr>\n",
       "    <tr>\n",
       "      <th>index</th>\n",
       "      <th></th>\n",
       "      <th></th>\n",
       "      <th></th>\n",
       "      <th></th>\n",
       "      <th></th>\n",
       "    </tr>\n",
       "  </thead>\n",
       "  <tbody>\n",
       "    <tr>\n",
       "      <th>0</th>\n",
       "      <td>OD_0</td>\n",
       "      <td>-71.329471</td>\n",
       "      <td>46.813762</td>\n",
       "      <td>-71.226580</td>\n",
       "      <td>46.802236</td>\n",
       "    </tr>\n",
       "    <tr>\n",
       "      <th>1</th>\n",
       "      <td>OD_1</td>\n",
       "      <td>-71.257463</td>\n",
       "      <td>46.781834</td>\n",
       "      <td>-71.275064</td>\n",
       "      <td>46.795452</td>\n",
       "    </tr>\n",
       "    <tr>\n",
       "      <th>2</th>\n",
       "      <td>OD_2</td>\n",
       "      <td>-71.227036</td>\n",
       "      <td>46.811419</td>\n",
       "      <td>-71.202701</td>\n",
       "      <td>46.791298</td>\n",
       "    </tr>\n",
       "    <tr>\n",
       "      <th>3</th>\n",
       "      <td>OD_3</td>\n",
       "      <td>-71.305008</td>\n",
       "      <td>46.797389</td>\n",
       "      <td>-71.288863</td>\n",
       "      <td>46.817872</td>\n",
       "    </tr>\n",
       "    <tr>\n",
       "      <th>4</th>\n",
       "      <td>OD_4</td>\n",
       "      <td>-71.268833</td>\n",
       "      <td>46.804565</td>\n",
       "      <td>-71.253284</td>\n",
       "      <td>46.798521</td>\n",
       "    </tr>\n",
       "    <tr>\n",
       "      <th>5</th>\n",
       "      <td>OD_5</td>\n",
       "      <td>-71.224267</td>\n",
       "      <td>46.807805</td>\n",
       "      <td>-71.227449</td>\n",
       "      <td>46.796754</td>\n",
       "    </tr>\n",
       "    <tr>\n",
       "      <th>6</th>\n",
       "      <td>OD_6</td>\n",
       "      <td>-71.228827</td>\n",
       "      <td>46.824617</td>\n",
       "      <td>-71.300985</td>\n",
       "      <td>46.796591</td>\n",
       "    </tr>\n",
       "    <tr>\n",
       "      <th>7</th>\n",
       "      <td>OD_7</td>\n",
       "      <td>-71.315340</td>\n",
       "      <td>46.824012</td>\n",
       "      <td>-71.211729</td>\n",
       "      <td>46.803660</td>\n",
       "    </tr>\n",
       "    <tr>\n",
       "      <th>8</th>\n",
       "      <td>OD_8</td>\n",
       "      <td>-71.213989</td>\n",
       "      <td>46.798891</td>\n",
       "      <td>-71.266754</td>\n",
       "      <td>46.803542</td>\n",
       "    </tr>\n",
       "    <tr>\n",
       "      <th>9</th>\n",
       "      <td>OD_9</td>\n",
       "      <td>-71.232909</td>\n",
       "      <td>46.784802</td>\n",
       "      <td>-71.286320</td>\n",
       "      <td>46.820722</td>\n",
       "    </tr>\n",
       "  </tbody>\n",
       "</table>\n",
       "</div>"
      ],
      "text/plain": [
       "       name         xo         yo         xd         yd\n",
       "index                                                  \n",
       "0      OD_0 -71.329471  46.813762 -71.226580  46.802236\n",
       "1      OD_1 -71.257463  46.781834 -71.275064  46.795452\n",
       "2      OD_2 -71.227036  46.811419 -71.202701  46.791298\n",
       "3      OD_3 -71.305008  46.797389 -71.288863  46.817872\n",
       "4      OD_4 -71.268833  46.804565 -71.253284  46.798521\n",
       "5      OD_5 -71.224267  46.807805 -71.227449  46.796754\n",
       "6      OD_6 -71.228827  46.824617 -71.300985  46.796591\n",
       "7      OD_7 -71.315340  46.824012 -71.211729  46.803660\n",
       "8      OD_8 -71.213989  46.798891 -71.266754  46.803542\n",
       "9      OD_9 -71.232909  46.784802 -71.286320  46.820722"
      ]
     },
     "execution_count": 270,
     "metadata": {},
     "output_type": "execute_result"
    }
   ],
   "source": [
    "od_test"
   ]
  },
  {
   "cell_type": "code",
   "execution_count": 272,
   "id": "51b958eb",
   "metadata": {},
   "outputs": [
    {
     "data": {
      "text/html": [
       "<div>\n",
       "<style scoped>\n",
       "    .dataframe tbody tr th:only-of-type {\n",
       "        vertical-align: middle;\n",
       "    }\n",
       "\n",
       "    .dataframe tbody tr th {\n",
       "        vertical-align: top;\n",
       "    }\n",
       "\n",
       "    .dataframe thead th {\n",
       "        text-align: right;\n",
       "    }\n",
       "</style>\n",
       "<table border=\"1\" class=\"dataframe\">\n",
       "  <thead>\n",
       "    <tr style=\"text-align: right;\">\n",
       "      <th></th>\n",
       "      <th>xo</th>\n",
       "      <th>yo</th>\n",
       "      <th>xd</th>\n",
       "      <th>yd</th>\n",
       "      <th>volume</th>\n",
       "    </tr>\n",
       "    <tr>\n",
       "      <th>index</th>\n",
       "      <th></th>\n",
       "      <th></th>\n",
       "      <th></th>\n",
       "      <th></th>\n",
       "      <th></th>\n",
       "    </tr>\n",
       "  </thead>\n",
       "  <tbody>\n",
       "    <tr>\n",
       "      <th>0</th>\n",
       "      <td>-71.229626</td>\n",
       "      <td>46.785718</td>\n",
       "      <td>-71.238669</td>\n",
       "      <td>46.813079</td>\n",
       "      <td>23</td>\n",
       "    </tr>\n",
       "    <tr>\n",
       "      <th>1</th>\n",
       "      <td>-71.267950</td>\n",
       "      <td>46.817031</td>\n",
       "      <td>-71.316601</td>\n",
       "      <td>46.794271</td>\n",
       "      <td>98</td>\n",
       "    </tr>\n",
       "    <tr>\n",
       "      <th>2</th>\n",
       "      <td>-71.217242</td>\n",
       "      <td>46.788997</td>\n",
       "      <td>-71.242299</td>\n",
       "      <td>46.799868</td>\n",
       "      <td>18</td>\n",
       "    </tr>\n",
       "    <tr>\n",
       "      <th>3</th>\n",
       "      <td>-71.289217</td>\n",
       "      <td>46.804150</td>\n",
       "      <td>-71.250750</td>\n",
       "      <td>46.783980</td>\n",
       "      <td>14</td>\n",
       "    </tr>\n",
       "    <tr>\n",
       "      <th>4</th>\n",
       "      <td>-71.300844</td>\n",
       "      <td>46.814425</td>\n",
       "      <td>-71.285264</td>\n",
       "      <td>46.782266</td>\n",
       "      <td>68</td>\n",
       "    </tr>\n",
       "    <tr>\n",
       "      <th>...</th>\n",
       "      <td>...</td>\n",
       "      <td>...</td>\n",
       "      <td>...</td>\n",
       "      <td>...</td>\n",
       "      <td>...</td>\n",
       "    </tr>\n",
       "    <tr>\n",
       "      <th>9995</th>\n",
       "      <td>-71.243163</td>\n",
       "      <td>46.797527</td>\n",
       "      <td>-71.222653</td>\n",
       "      <td>46.822845</td>\n",
       "      <td>79</td>\n",
       "    </tr>\n",
       "    <tr>\n",
       "      <th>9996</th>\n",
       "      <td>-71.302755</td>\n",
       "      <td>46.789150</td>\n",
       "      <td>-71.271778</td>\n",
       "      <td>46.796505</td>\n",
       "      <td>54</td>\n",
       "    </tr>\n",
       "    <tr>\n",
       "      <th>9997</th>\n",
       "      <td>-71.237368</td>\n",
       "      <td>46.784497</td>\n",
       "      <td>-71.224168</td>\n",
       "      <td>46.799185</td>\n",
       "      <td>38</td>\n",
       "    </tr>\n",
       "    <tr>\n",
       "      <th>9998</th>\n",
       "      <td>-71.314402</td>\n",
       "      <td>46.824221</td>\n",
       "      <td>-71.285177</td>\n",
       "      <td>46.783796</td>\n",
       "      <td>98</td>\n",
       "    </tr>\n",
       "    <tr>\n",
       "      <th>9999</th>\n",
       "      <td>-71.285161</td>\n",
       "      <td>46.811040</td>\n",
       "      <td>-71.234307</td>\n",
       "      <td>46.810863</td>\n",
       "      <td>55</td>\n",
       "    </tr>\n",
       "  </tbody>\n",
       "</table>\n",
       "<p>10000 rows × 5 columns</p>\n",
       "</div>"
      ],
      "text/plain": [
       "              xo         yo         xd         yd  volume\n",
       "index                                                    \n",
       "0     -71.229626  46.785718 -71.238669  46.813079      23\n",
       "1     -71.267950  46.817031 -71.316601  46.794271      98\n",
       "2     -71.217242  46.788997 -71.242299  46.799868      18\n",
       "3     -71.289217  46.804150 -71.250750  46.783980      14\n",
       "4     -71.300844  46.814425 -71.285264  46.782266      68\n",
       "...          ...        ...        ...        ...     ...\n",
       "9995  -71.243163  46.797527 -71.222653  46.822845      79\n",
       "9996  -71.302755  46.789150 -71.271778  46.796505      54\n",
       "9997  -71.237368  46.784497 -71.224168  46.799185      38\n",
       "9998  -71.314402  46.824221 -71.285177  46.783796      98\n",
       "9999  -71.285161  46.811040 -71.234307  46.810863      55\n",
       "\n",
       "[10000 rows x 5 columns]"
      ]
     },
     "execution_count": 272,
     "metadata": {},
     "output_type": "execute_result"
    }
   ],
   "source": [
    "new_demand"
   ]
  },
  {
   "cell_type": "code",
   "execution_count": null,
   "id": "cc01c046",
   "metadata": {},
   "outputs": [],
   "source": []
  }
 ],
 "metadata": {
  "kernelspec": {
   "display_name": "quetzal_env",
   "language": "python",
   "name": "quetzal_env"
  },
  "language_info": {
   "codemirror_mode": {
    "name": "ipython",
    "version": 3
   },
   "file_extension": ".py",
   "mimetype": "text/x-python",
   "name": "python",
   "nbconvert_exporter": "python",
   "pygments_lexer": "ipython3",
   "version": "3.8.6"
  }
 },
 "nbformat": 4,
 "nbformat_minor": 5
}
