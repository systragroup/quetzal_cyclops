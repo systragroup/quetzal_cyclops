{
 "cells": [
  {
   "cell_type": "code",
   "execution_count": 168,
   "id": "71ccff01",
   "metadata": {},
   "outputs": [
    {
     "name": "stdout",
     "output_type": "stream",
     "text": [
      "{'training_folder': '../../scenarios/quebec', 'params': {'aggregation': {'distance': 1000}, 'constant': {'cst_incline': 1}, 'road_weight': {'residential': 0.5, 'secondary_link': 0.3, 'secondary': 0.3, 'tertiary': 0.3, 'cycleway': 1.1, 'primary': 0.3, 'motorway_link': 0, 'primary_link': 0.3, 'tertiary_link': 0.3, 'motorway': 0, 'trunk': 0.2, 'trunk_link': 0.2}, 'shared_cycleway_weight': {'residential': 0.8, 'secondary_link': 0.5, 'secondary': 0.5, 'tertiary': 0.5, 'cycleway': 1.1, 'primary': 0.5, 'motorway_link': 0, 'primary_link': 0.5, 'tertiary_link': 0.5, 'motorway': 0, 'trunk': 0.4, 'trunk_link': 0.4}}}\n"
     ]
    }
   ],
   "source": [
    "import sys\n",
    "import json\n",
    "aggregation = {'distance':1000}\n",
    "constant = {'cst_incline':1}\n",
    "road_weight = {'residential':0.5,\n",
    "            'secondary_link':0.3,\n",
    "            'secondary':0.3,\n",
    "            'tertiary':0.3,\n",
    "            'cycleway':1.1,\n",
    "            'primary':0.3,\n",
    "            'motorway_link':0,\n",
    "            'primary_link':0.3,\n",
    "            'tertiary_link':0.3,\n",
    "            'motorway':0,\n",
    "            'trunk':0.2, \n",
    "            'trunk_link':0.2  \n",
    "            }\n",
    "shared_cycleway_weight = {'residential':0.8,\n",
    "            'secondary_link':0.5,\n",
    "            'secondary':0.5,\n",
    "            'tertiary':0.5,\n",
    "            'cycleway':1.1,\n",
    "            'primary':0.5,\n",
    "            'motorway_link':0,\n",
    "            'primary_link':0.5,\n",
    "            'tertiary_link':0.5,\n",
    "            'motorway':0,\n",
    "            'trunk':0.4, \n",
    "            'trunk_link':0.4   \n",
    "        }\n",
    "\n",
    "params = {'aggregation':aggregation,'constant':constant, 'road_weight': road_weight, 'shared_cycleway_weight': shared_cycleway_weight}\n",
    "\n",
    "         \n",
    "\n",
    "default = {'training_folder': '../../scenarios/quebec', 'params':params} # Default execution parameters\n",
    "manual, argv = (True, default) if 'ipykernel' in sys.argv[0] else (False, dict(default, **json.loads(sys.argv[1])))\n",
    "print(argv)\n"
   ]
  },
  {
   "cell_type": "code",
   "execution_count": 169,
   "id": "99b5db61",
   "metadata": {},
   "outputs": [],
   "source": [
    "import os\n",
    "import geopandas as gpd\n",
    "import pandas as pd\n",
    "sys.path.insert(0, r'../../../quetzal') # Add path to quetzal\n",
    "from quetzal.engine.road_model import RoadModel\n",
    "from quetzal.engine.pathfinder_utils import get_path, parallel_dijkstra, build_index, sparse_matrix\n",
    "from quetzal.engine.msa_utils import get_zone_index, assign_volume\n",
    "import numpy as np\n",
    "import random\n",
    "from shapely.geometry import Point\n",
    "from typing import Tuple\n",
    "num_cores = 1\n",
    "#from sklearn.cluster import KMeans\n",
    "from syspy.spatial.spatial import nearest, agglomerative_clustering, voronoi_diagram_dataframes\n",
    "from quetzal.engine.pathfinder_utils import simple_routing,get_path"
   ]
  },
  {
   "cell_type": "code",
   "execution_count": 170,
   "id": "dc057466",
   "metadata": {},
   "outputs": [],
   "source": [
    "def drop_duplicated_links(links: gpd.GeoDataFrame,\n",
    "                          sort_column: str = 'maxspeed', \n",
    "                          ascending: bool = False, \n",
    "                          return_dropped:bool = False)-> Tuple[gpd.GeoDataFrame,list]:\n",
    "    '''\n",
    "    drop duplicated links (a,b) with condition sort_column. if maxspeed and ascending=False, keep faster road\n",
    "    '''\n",
    "    before = set(links.index)\n",
    "    links['dup'] = links['a'] + links['b']\n",
    "    links = links.sort_values(sort_column, ascending=ascending).drop_duplicates('dup').sort_index()\n",
    "    links = links.drop(columns='dup')\n",
    "    after = set(links.index)\n",
    "    diff = list(before-after)\n",
    "    print(len(diff), 'links dropped')\n",
    "    return links, diff\n",
    "\n",
    "def get_epsg(lat: float, lon: float) -> int:\n",
    "    '''\n",
    "    return EPSG in meter for a given (lat,lon)\n",
    "    lat is north south \n",
    "    lon is est west\n",
    "    '''\n",
    "    return int(32700 - round((45 + lat) / 90, 0) * 100 + round((183 + lon) / 6, 0))\n",
    "\n",
    "def zones_nearest_node(zones,nodes,drop_duplicates=False):\n",
    "    # getting zones centroids\n",
    "    centroid = zones.copy()\n",
    "    centroid['geometry'] = centroid.centroid\n",
    "    # finding nearest node\n",
    "    neigh = nearest(centroid, nodes, n_neighbors=1).rename(columns={'ix_one': 'zone_index', 'ix_many': 'node_index'})\n",
    "    zone_node_dict = neigh.set_index('zone_index')['node_index'].to_dict()\n",
    "    centroid['node_index'] = centroid.index.map(zone_node_dict.get)\n",
    "    print('max_distance found: ', neigh['distance'].max())\n",
    "    # check for duplicated nodes. if there is. drop the duplicated zones.\n",
    "    if drop_duplicates:\n",
    "        if len(centroid.drop_duplicates('node_index')) != len(centroid):\n",
    "            print('there is zones associates to the same road_node')\n",
    "            # duplicated = centroid[centroid['node_index'].duplicated()]['node_index'].values\n",
    "            print('dropping zones: ')\n",
    "            print(centroid[centroid['node_index'].duplicated()].index.values)\n",
    "            centroid = centroid.drop_duplicates('node_index')\n",
    "    return centroid"
   ]
  },
  {
   "cell_type": "code",
   "execution_count": 171,
   "id": "4e405b87",
   "metadata": {},
   "outputs": [
    {
     "name": "stdout",
     "output_type": "stream",
     "text": [
      "../../scenarios/quebec/inputs/road/\n"
     ]
    }
   ],
   "source": [
    "base_folder = argv['training_folder']\n",
    "road_folder = base_folder + '/inputs/road/'\n",
    "demand_folder = base_folder +'/inputs/'\n",
    "od_folder = base_folder + '/inputs/od/'\n",
    "output_folder = base_folder +'/outputs/'\n",
    "print(road_folder)\n",
    "if not os.path.exists(output_folder):\n",
    "    os.makedirs(output_folder)\n"
   ]
  },
  {
   "cell_type": "markdown",
   "id": "cdd032bd",
   "metadata": {},
   "source": [
    "# inputs"
   ]
  },
  {
   "cell_type": "code",
   "execution_count": 172,
   "id": "7dadadbf",
   "metadata": {},
   "outputs": [],
   "source": [
    "cst_incline = argv['params' ]['constant']['cst_incline']\n",
    "cst_road = argv['params']['road_weight']\n",
    "cst_shared = argv['params']['shared_cycleway_weight']"
   ]
  },
  {
   "cell_type": "code",
   "execution_count": 173,
   "id": "bfcf01e6",
   "metadata": {},
   "outputs": [],
   "source": [
    "#make sure its float\n",
    "cst_incline = float(cst_incline)\n",
    "cst_road = {k:float(v) for k,v in cst_road.items()}\n",
    "cst_shared = {k:float(v) for k,v in cst_shared.items()}"
   ]
  },
  {
   "cell_type": "code",
   "execution_count": null,
   "id": "94b20ce2",
   "metadata": {},
   "outputs": [],
   "source": []
  },
  {
   "cell_type": "code",
   "execution_count": 174,
   "id": "1a674100",
   "metadata": {},
   "outputs": [],
   "source": [
    "links = gpd.read_file(road_folder + 'road_links.geojson') \n",
    "nodes = gpd.read_file(road_folder + 'road_nodes.geojson')\n",
    "links = links.set_index('index')\n",
    "nodes = nodes.set_index('index')"
   ]
  },
  {
   "cell_type": "code",
   "execution_count": 175,
   "id": "8c5c4543",
   "metadata": {},
   "outputs": [],
   "source": [
    "demand = pd.read_csv(demand_folder+'demand.csv')\n",
    "assert all([col in demand.columns for col in ['lon_ori','lat_ori','lon_des','lat_des','volume'] ]), 'need origin,destination and volume in demand'\n",
    "demand = demand[['lon_ori','lat_ori','lon_des','lat_des','volume']]"
   ]
  },
  {
   "cell_type": "code",
   "execution_count": null,
   "id": "b00a66bd",
   "metadata": {},
   "outputs": [],
   "source": []
  },
  {
   "cell_type": "code",
   "execution_count": 179,
   "id": "599c9feb",
   "metadata": {},
   "outputs": [],
   "source": [
    "od_test = gpd.read_file(od_folder + 'od.geojson')"
   ]
  },
  {
   "cell_type": "code",
   "execution_count": 182,
   "id": "6071cbdf",
   "metadata": {},
   "outputs": [],
   "source": [
    "if 'name' not in od_test.columns:\n",
    "    od_test['name'] = od_test['index']"
   ]
  },
  {
   "cell_type": "markdown",
   "id": "85e31338",
   "metadata": {},
   "source": [
    "# agg demand"
   ]
  },
  {
   "cell_type": "markdown",
   "id": "321fe77d",
   "metadata": {},
   "source": [
    "format demand and create zone"
   ]
  },
  {
   "cell_type": "code",
   "execution_count": null,
   "id": "91e83de1",
   "metadata": {},
   "outputs": [],
   "source": []
  },
  {
   "cell_type": "code",
   "execution_count": 62,
   "id": "10b25b15",
   "metadata": {},
   "outputs": [],
   "source": [
    "demand['origin'] = [*zip(demand['lon_ori'],demand['lat_ori'])]\n",
    "demand['destination'] = [*zip(demand['lon_des'],demand['lat_des'])]\n",
    "demand = demand.drop(columns=['lat_ori','lon_ori','lat_des','lon_des'])"
   ]
  },
  {
   "cell_type": "code",
   "execution_count": 63,
   "id": "df1b6c08",
   "metadata": {},
   "outputs": [],
   "source": [
    "# get unique zones\n",
    "zones_set = set(demand['origin'].values).union(set(demand['destination'].values))\n",
    "zones_dict = {val:'zone_'+str(i) for i,val in enumerate(zones_set)}\n",
    "zones_df = [{'index':zone,'geometry':Point(val)} for val,zone in zones_dict.items()]"
   ]
  },
  {
   "cell_type": "code",
   "execution_count": 64,
   "id": "0c2b545e",
   "metadata": {},
   "outputs": [],
   "source": [
    "demand['origin'] = demand['origin'].apply(lambda x: zones_dict.get(x))\n",
    "demand['destination'] = demand['destination'].apply(lambda x: zones_dict.get(x))\n",
    "zones = gpd.GeoDataFrame(zones_df,crs=4326).set_index('index')"
   ]
  },
  {
   "cell_type": "markdown",
   "id": "d7cddac1",
   "metadata": {},
   "source": [
    "Clustering"
   ]
  },
  {
   "cell_type": "code",
   "execution_count": 65,
   "id": "4de080e5",
   "metadata": {},
   "outputs": [],
   "source": [
    "agg_dist = float(argv['params']['aggregation']['distance'])\n",
    "epsg = get_epsg(zones.iloc[0]['geometry'].y, zones.iloc[0]['geometry'].x)\n",
    "label = agglomerative_clustering(zones.to_crs(epsg), distance_threshold = agg_dist)\n",
    "zones['cluster'] = label"
   ]
  },
  {
   "cell_type": "code",
   "execution_count": null,
   "id": "635dca17",
   "metadata": {},
   "outputs": [],
   "source": []
  },
  {
   "cell_type": "code",
   "execution_count": 66,
   "id": "efda77a3",
   "metadata": {},
   "outputs": [
    {
     "name": "stdout",
     "output_type": "stream",
     "text": [
      "20000 zones agg to 626  zones\n"
     ]
    }
   ],
   "source": [
    "print(len(zones),'zones agg to',len(zones['cluster'].unique()),' zones')"
   ]
  },
  {
   "cell_type": "code",
   "execution_count": 67,
   "id": "6c6f92ea",
   "metadata": {},
   "outputs": [],
   "source": [
    "# create a dict zone:cluster\n",
    "zones['cluster'] = 'zone_' + zones['cluster'].astype(str)\n",
    "cluster_dict = zones['cluster'].to_dict()"
   ]
  },
  {
   "cell_type": "code",
   "execution_count": 68,
   "id": "9191a97a",
   "metadata": {},
   "outputs": [],
   "source": [
    "# drop duplicated cluster and rename index with new cluster as zones_id\n",
    "zones = zones.drop_duplicates('cluster')\n",
    "zones = zones.set_index('cluster')\n",
    "zones.index.name='index'"
   ]
  },
  {
   "cell_type": "markdown",
   "id": "f33d3cdc",
   "metadata": {},
   "source": [
    " AGG demand on new zones (volime is sum)"
   ]
  },
  {
   "cell_type": "code",
   "execution_count": 69,
   "id": "677503c3",
   "metadata": {},
   "outputs": [],
   "source": [
    "# apply new cluster fict to the demand\n",
    "demand['origin'] = demand['origin'].apply(lambda x: cluster_dict.get(x))\n",
    "demand['destination'] = demand['destination'].apply(lambda x: cluster_dict.get(x))"
   ]
  },
  {
   "cell_type": "code",
   "execution_count": 70,
   "id": "a95b25a7",
   "metadata": {},
   "outputs": [],
   "source": [
    "demand = demand.groupby(['origin','destination']).agg(sum).reset_index()\n",
    "demand.index.name = 'index'"
   ]
  },
  {
   "cell_type": "code",
   "execution_count": null,
   "id": "4c692d9c",
   "metadata": {},
   "outputs": [],
   "source": []
  },
  {
   "cell_type": "markdown",
   "id": "18fa6f20",
   "metadata": {},
   "source": [
    "# export zones and demand in outputs"
   ]
  },
  {
   "cell_type": "code",
   "execution_count": 71,
   "id": "de2a4c6a",
   "metadata": {},
   "outputs": [],
   "source": [
    "#zones.to_file(output_folder + 'centroids.geojson',driver='GeoJSON')"
   ]
  },
  {
   "cell_type": "code",
   "execution_count": 72,
   "id": "9bcea6e1",
   "metadata": {},
   "outputs": [],
   "source": [
    "# Group the DataFrame by \"origin\" and \"destination\", and then convert to JSON\n",
    "grouped = demand.groupby([\"origin\", \"destination\"])[\"volume\"].sum().reset_index()\n",
    "json_data = {}\n",
    "for _, row in grouped.iterrows():\n",
    "    origin = row[\"origin\"]\n",
    "    destination = row[\"destination\"]\n",
    "    volume = row[\"volume\"]\n",
    "    if origin not in json_data:\n",
    "        json_data[origin] = {}\n",
    "    json_data[origin][destination] = volume\n",
    "\n",
    "    \n",
    "with open(output_folder + 'zones.json', 'w') as json_file:\n",
    "    json.dump({'volume':json_data},json_file)"
   ]
  },
  {
   "cell_type": "code",
   "execution_count": 73,
   "id": "0860bfe1",
   "metadata": {},
   "outputs": [
    {
     "name": "stderr",
     "output_type": "stream",
     "text": [
      "/home/boivin/.pyenv/versions/3.8.6/envs/quetzal_env/lib/python3.8/site-packages/pandas/core/dtypes/cast.py:127: ShapelyDeprecationWarning: The array interface is deprecated and will no longer work in Shapely 2.0. Convert the '.coords' to a numpy array instead.\n",
      "  arr = construct_1d_object_array_from_listlike(values)\n"
     ]
    }
   ],
   "source": [
    "convex_hull = zones.unary_union.convex_hull.buffer(1e-3)\n",
    "voronoi = voronoi_diagram_dataframes(zones['geometry'])\n",
    "voronoi = gpd.GeoDataFrame(voronoi[0],crs=4326)\n",
    "voronoi = voronoi.clip(convex_hull)\n",
    "voronoi.to_file(output_folder + 'zones.geojson',driver='GeoJSON')"
   ]
  },
  {
   "cell_type": "code",
   "execution_count": null,
   "id": "fcdd6c8d",
   "metadata": {},
   "outputs": [],
   "source": []
  },
  {
   "cell_type": "code",
   "execution_count": 74,
   "id": "c7c6767e",
   "metadata": {},
   "outputs": [
    {
     "data": {
      "text/plain": [
       "\"\\ndef create_zones_from_nodes(nodes,num_zones=200):\\n    nodes['x'] = nodes['geometry'].apply(lambda p:p.x)\\n    nodes['y'] = nodes['geometry'].apply(lambda p:p.y)\\n    cluster = KMeans(n_clusters=num_zones,random_state=0,n_init='auto')\\n    cluster.fit(nodes[['x','y']].values)\\n    geom = [Point(val) for val in cluster.cluster_centers_]\\n    zones = gpd.GeoDataFrame(range(len(geom)),geometry=geom,crs=4326).drop(columns=0)\\n    zones.index = 'zone_' + zones.index.astype(str)\\n    return zones\\n#create_zones_from_nodes(zones).plot()\\n\""
      ]
     },
     "execution_count": 74,
     "metadata": {},
     "output_type": "execute_result"
    }
   ],
   "source": [
    "'''\n",
    "def create_zones_from_nodes(nodes,num_zones=200):\n",
    "    nodes['x'] = nodes['geometry'].apply(lambda p:p.x)\n",
    "    nodes['y'] = nodes['geometry'].apply(lambda p:p.y)\n",
    "    cluster = KMeans(n_clusters=num_zones,random_state=0,n_init='auto')\n",
    "    cluster.fit(nodes[['x','y']].values)\n",
    "    geom = [Point(val) for val in cluster.cluster_centers_]\n",
    "    zones = gpd.GeoDataFrame(range(len(geom)),geometry=geom,crs=4326).drop(columns=0)\n",
    "    zones.index = 'zone_' + zones.index.astype(str)\n",
    "    return zones\n",
    "#create_zones_from_nodes(zones).plot()\n",
    "'''"
   ]
  },
  {
   "cell_type": "markdown",
   "id": "e82be5c4",
   "metadata": {},
   "source": [
    "# split oneway quenedi links"
   ]
  },
  {
   "cell_type": "code",
   "execution_count": 75,
   "id": "c314ae97",
   "metadata": {},
   "outputs": [
    {
     "data": {
      "text/html": [
       "<div>\n",
       "<style scoped>\n",
       "    .dataframe tbody tr th:only-of-type {\n",
       "        vertical-align: middle;\n",
       "    }\n",
       "\n",
       "    .dataframe tbody tr th {\n",
       "        vertical-align: top;\n",
       "    }\n",
       "\n",
       "    .dataframe thead th {\n",
       "        text-align: right;\n",
       "    }\n",
       "</style>\n",
       "<table border=\"1\" class=\"dataframe\">\n",
       "  <thead>\n",
       "    <tr style=\"text-align: right;\">\n",
       "      <th></th>\n",
       "      <th>highway</th>\n",
       "      <th>speed</th>\n",
       "      <th>lanes</th>\n",
       "      <th>name</th>\n",
       "      <th>oneway</th>\n",
       "      <th>surface</th>\n",
       "      <th>cycleway</th>\n",
       "      <th>a</th>\n",
       "      <th>b</th>\n",
       "      <th>cycleway_reverse</th>\n",
       "      <th>...</th>\n",
       "      <th>time</th>\n",
       "      <th>incline</th>\n",
       "      <th>route_width</th>\n",
       "      <th>route_color</th>\n",
       "      <th>speed_r</th>\n",
       "      <th>lanes_r</th>\n",
       "      <th>name_r</th>\n",
       "      <th>surface_r</th>\n",
       "      <th>time_r</th>\n",
       "      <th>geometry</th>\n",
       "    </tr>\n",
       "    <tr>\n",
       "      <th>index</th>\n",
       "      <th></th>\n",
       "      <th></th>\n",
       "      <th></th>\n",
       "      <th></th>\n",
       "      <th></th>\n",
       "      <th></th>\n",
       "      <th></th>\n",
       "      <th></th>\n",
       "      <th></th>\n",
       "      <th></th>\n",
       "      <th></th>\n",
       "      <th></th>\n",
       "      <th></th>\n",
       "      <th></th>\n",
       "      <th></th>\n",
       "      <th></th>\n",
       "      <th></th>\n",
       "      <th></th>\n",
       "      <th></th>\n",
       "      <th></th>\n",
       "      <th></th>\n",
       "    </tr>\n",
       "  </thead>\n",
       "  <tbody>\n",
       "    <tr>\n",
       "      <th>road_link_0</th>\n",
       "      <td>residential</td>\n",
       "      <td>38.772474</td>\n",
       "      <td>1.0</td>\n",
       "      <td>9e Rue</td>\n",
       "      <td>1</td>\n",
       "      <td>asphalt</td>\n",
       "      <td>no</td>\n",
       "      <td>road_node_1128</td>\n",
       "      <td>road_node_1710</td>\n",
       "      <td>no</td>\n",
       "      <td>...</td>\n",
       "      <td>13.576979</td>\n",
       "      <td>-0.783613</td>\n",
       "      <td>2</td>\n",
       "      <td>808080</td>\n",
       "      <td>NaN</td>\n",
       "      <td>NaN</td>\n",
       "      <td>NaN</td>\n",
       "      <td>NaN</td>\n",
       "      <td>NaN</td>\n",
       "      <td>LINESTRING (-71.23089 46.82516, -71.23042 46.8...</td>\n",
       "    </tr>\n",
       "    <tr>\n",
       "      <th>road_link_1</th>\n",
       "      <td>residential</td>\n",
       "      <td>38.772474</td>\n",
       "      <td>1.0</td>\n",
       "      <td>Rue Sutherland</td>\n",
       "      <td>1</td>\n",
       "      <td>asphalt</td>\n",
       "      <td>no</td>\n",
       "      <td>road_node_4797</td>\n",
       "      <td>road_node_5141</td>\n",
       "      <td>no</td>\n",
       "      <td>...</td>\n",
       "      <td>4.214099</td>\n",
       "      <td>5.036586</td>\n",
       "      <td>2</td>\n",
       "      <td>808080</td>\n",
       "      <td>NaN</td>\n",
       "      <td>NaN</td>\n",
       "      <td>NaN</td>\n",
       "      <td>NaN</td>\n",
       "      <td>NaN</td>\n",
       "      <td>LINESTRING (-71.22443 46.80920, -71.22403 46.8...</td>\n",
       "    </tr>\n",
       "    <tr>\n",
       "      <th>road_link_2</th>\n",
       "      <td>residential</td>\n",
       "      <td>38.772474</td>\n",
       "      <td>2.0</td>\n",
       "      <td>Rue Dina-Bélanger</td>\n",
       "      <td>0</td>\n",
       "      <td>asphalt</td>\n",
       "      <td>no</td>\n",
       "      <td>road_node_4509</td>\n",
       "      <td>road_node_8592</td>\n",
       "      <td>no</td>\n",
       "      <td>...</td>\n",
       "      <td>7.262803</td>\n",
       "      <td>-2.196372</td>\n",
       "      <td>2</td>\n",
       "      <td>808080</td>\n",
       "      <td>38.772474</td>\n",
       "      <td>2.0</td>\n",
       "      <td>Rue Dina-Bélanger</td>\n",
       "      <td>asphalt</td>\n",
       "      <td>7.262803</td>\n",
       "      <td>LINESTRING (-71.25063 46.78553, -71.25045 46.7...</td>\n",
       "    </tr>\n",
       "    <tr>\n",
       "      <th>road_link_3</th>\n",
       "      <td>residential</td>\n",
       "      <td>30.000000</td>\n",
       "      <td>2.0</td>\n",
       "      <td>Rue De Maisonneuve</td>\n",
       "      <td>0</td>\n",
       "      <td>asphalt</td>\n",
       "      <td>shared</td>\n",
       "      <td>road_node_5919</td>\n",
       "      <td>road_node_5519</td>\n",
       "      <td>shared</td>\n",
       "      <td>...</td>\n",
       "      <td>18.416490</td>\n",
       "      <td>1.866008</td>\n",
       "      <td>2</td>\n",
       "      <td>808080</td>\n",
       "      <td>30.000000</td>\n",
       "      <td>2.0</td>\n",
       "      <td>Rue De Maisonneuve</td>\n",
       "      <td>asphalt</td>\n",
       "      <td>18.416490</td>\n",
       "      <td>LINESTRING (-71.22494 46.80448, -71.22369 46.8...</td>\n",
       "    </tr>\n",
       "    <tr>\n",
       "      <th>road_link_4</th>\n",
       "      <td>primary_link</td>\n",
       "      <td>50.000000</td>\n",
       "      <td>1.0</td>\n",
       "      <td>NaN</td>\n",
       "      <td>1</td>\n",
       "      <td>asphalt</td>\n",
       "      <td>no</td>\n",
       "      <td>road_node_5074</td>\n",
       "      <td>road_node_2923</td>\n",
       "      <td>no</td>\n",
       "      <td>...</td>\n",
       "      <td>6.307702</td>\n",
       "      <td>0.000000</td>\n",
       "      <td>4</td>\n",
       "      <td>FCD6A4</td>\n",
       "      <td>NaN</td>\n",
       "      <td>NaN</td>\n",
       "      <td>NaN</td>\n",
       "      <td>NaN</td>\n",
       "      <td>NaN</td>\n",
       "      <td>LINESTRING (-71.25305 46.81402, -71.25282 46.8...</td>\n",
       "    </tr>\n",
       "    <tr>\n",
       "      <th>...</th>\n",
       "      <td>...</td>\n",
       "      <td>...</td>\n",
       "      <td>...</td>\n",
       "      <td>...</td>\n",
       "      <td>...</td>\n",
       "      <td>...</td>\n",
       "      <td>...</td>\n",
       "      <td>...</td>\n",
       "      <td>...</td>\n",
       "      <td>...</td>\n",
       "      <td>...</td>\n",
       "      <td>...</td>\n",
       "      <td>...</td>\n",
       "      <td>...</td>\n",
       "      <td>...</td>\n",
       "      <td>...</td>\n",
       "      <td>...</td>\n",
       "      <td>...</td>\n",
       "      <td>...</td>\n",
       "      <td>...</td>\n",
       "      <td>...</td>\n",
       "    </tr>\n",
       "    <tr>\n",
       "      <th>road_link_12493</th>\n",
       "      <td>trunk</td>\n",
       "      <td>50.000000</td>\n",
       "      <td>2.0</td>\n",
       "      <td>Boulevard Robert-Bourassa</td>\n",
       "      <td>1</td>\n",
       "      <td>NaN</td>\n",
       "      <td>no</td>\n",
       "      <td>road_node_6061</td>\n",
       "      <td>road_node_7264</td>\n",
       "      <td>no</td>\n",
       "      <td>...</td>\n",
       "      <td>48.208189</td>\n",
       "      <td>2.223768</td>\n",
       "      <td>4</td>\n",
       "      <td>E892A2</td>\n",
       "      <td>NaN</td>\n",
       "      <td>NaN</td>\n",
       "      <td>NaN</td>\n",
       "      <td>NaN</td>\n",
       "      <td>NaN</td>\n",
       "      <td>LINESTRING (-71.33864 46.85090, -71.33893 46.8...</td>\n",
       "    </tr>\n",
       "    <tr>\n",
       "      <th>road_link_12494</th>\n",
       "      <td>trunk</td>\n",
       "      <td>50.000000</td>\n",
       "      <td>3.0</td>\n",
       "      <td>Autoroute Robert-Bourassa</td>\n",
       "      <td>1</td>\n",
       "      <td>NaN</td>\n",
       "      <td>no</td>\n",
       "      <td>road_node_6845</td>\n",
       "      <td>road_node_8545</td>\n",
       "      <td>no</td>\n",
       "      <td>...</td>\n",
       "      <td>22.165195</td>\n",
       "      <td>0.930498</td>\n",
       "      <td>4</td>\n",
       "      <td>E892A2</td>\n",
       "      <td>NaN</td>\n",
       "      <td>NaN</td>\n",
       "      <td>NaN</td>\n",
       "      <td>NaN</td>\n",
       "      <td>NaN</td>\n",
       "      <td>LINESTRING (-71.27538 46.77401, -71.27548 46.7...</td>\n",
       "    </tr>\n",
       "    <tr>\n",
       "      <th>road_link_12495</th>\n",
       "      <td>trunk</td>\n",
       "      <td>50.000000</td>\n",
       "      <td>3.0</td>\n",
       "      <td>Autoroute Robert-Bourassa</td>\n",
       "      <td>1</td>\n",
       "      <td>NaN</td>\n",
       "      <td>no</td>\n",
       "      <td>road_node_3197</td>\n",
       "      <td>road_node_9712</td>\n",
       "      <td>no</td>\n",
       "      <td>...</td>\n",
       "      <td>22.086820</td>\n",
       "      <td>-0.747063</td>\n",
       "      <td>4</td>\n",
       "      <td>E892A2</td>\n",
       "      <td>NaN</td>\n",
       "      <td>NaN</td>\n",
       "      <td>NaN</td>\n",
       "      <td>NaN</td>\n",
       "      <td>NaN</td>\n",
       "      <td>LINESTRING (-71.27802 46.77610, -71.27766 46.7...</td>\n",
       "    </tr>\n",
       "    <tr>\n",
       "      <th>road_link_12496</th>\n",
       "      <td>trunk</td>\n",
       "      <td>70.000000</td>\n",
       "      <td>2.0</td>\n",
       "      <td>Boulevard Robert-Bourassa</td>\n",
       "      <td>1</td>\n",
       "      <td>asphalt</td>\n",
       "      <td>no</td>\n",
       "      <td>road_node_8725</td>\n",
       "      <td>road_node_7534</td>\n",
       "      <td>no</td>\n",
       "      <td>...</td>\n",
       "      <td>45.435540</td>\n",
       "      <td>1.296842</td>\n",
       "      <td>4</td>\n",
       "      <td>E892A2</td>\n",
       "      <td>NaN</td>\n",
       "      <td>NaN</td>\n",
       "      <td>NaN</td>\n",
       "      <td>NaN</td>\n",
       "      <td>NaN</td>\n",
       "      <td>LINESTRING (-71.30482 46.83135, -71.30634 46.8...</td>\n",
       "    </tr>\n",
       "    <tr>\n",
       "      <th>road_link_12497</th>\n",
       "      <td>trunk</td>\n",
       "      <td>56.666667</td>\n",
       "      <td>2.0</td>\n",
       "      <td>Boulevard Robert-Bourassa</td>\n",
       "      <td>1</td>\n",
       "      <td>NaN</td>\n",
       "      <td>no</td>\n",
       "      <td>road_node_4332</td>\n",
       "      <td>road_node_1865</td>\n",
       "      <td>no</td>\n",
       "      <td>...</td>\n",
       "      <td>39.362529</td>\n",
       "      <td>-0.554820</td>\n",
       "      <td>4</td>\n",
       "      <td>E892A2</td>\n",
       "      <td>NaN</td>\n",
       "      <td>NaN</td>\n",
       "      <td>NaN</td>\n",
       "      <td>NaN</td>\n",
       "      <td>NaN</td>\n",
       "      <td>LINESTRING (-71.31978 46.83864, -71.31935 46.8...</td>\n",
       "    </tr>\n",
       "  </tbody>\n",
       "</table>\n",
       "<p>12498 rows × 21 columns</p>\n",
       "</div>"
      ],
      "text/plain": [
       "                      highway      speed  lanes                       name  \\\n",
       "index                                                                        \n",
       "road_link_0       residential  38.772474    1.0                     9e Rue   \n",
       "road_link_1       residential  38.772474    1.0             Rue Sutherland   \n",
       "road_link_2       residential  38.772474    2.0          Rue Dina-Bélanger   \n",
       "road_link_3       residential  30.000000    2.0         Rue De Maisonneuve   \n",
       "road_link_4      primary_link  50.000000    1.0                        NaN   \n",
       "...                       ...        ...    ...                        ...   \n",
       "road_link_12493         trunk  50.000000    2.0  Boulevard Robert-Bourassa   \n",
       "road_link_12494         trunk  50.000000    3.0  Autoroute Robert-Bourassa   \n",
       "road_link_12495         trunk  50.000000    3.0  Autoroute Robert-Bourassa   \n",
       "road_link_12496         trunk  70.000000    2.0  Boulevard Robert-Bourassa   \n",
       "road_link_12497         trunk  56.666667    2.0  Boulevard Robert-Bourassa   \n",
       "\n",
       "                oneway  surface cycleway               a               b  \\\n",
       "index                                                                      \n",
       "road_link_0          1  asphalt       no  road_node_1128  road_node_1710   \n",
       "road_link_1          1  asphalt       no  road_node_4797  road_node_5141   \n",
       "road_link_2          0  asphalt       no  road_node_4509  road_node_8592   \n",
       "road_link_3          0  asphalt   shared  road_node_5919  road_node_5519   \n",
       "road_link_4          1  asphalt       no  road_node_5074  road_node_2923   \n",
       "...                ...      ...      ...             ...             ...   \n",
       "road_link_12493      1      NaN       no  road_node_6061  road_node_7264   \n",
       "road_link_12494      1      NaN       no  road_node_6845  road_node_8545   \n",
       "road_link_12495      1      NaN       no  road_node_3197  road_node_9712   \n",
       "road_link_12496      1  asphalt       no  road_node_8725  road_node_7534   \n",
       "road_link_12497      1      NaN       no  road_node_4332  road_node_1865   \n",
       "\n",
       "                cycleway_reverse  ...       time   incline  route_width  \\\n",
       "index                             ...                                     \n",
       "road_link_0                   no  ...  13.576979 -0.783613            2   \n",
       "road_link_1                   no  ...   4.214099  5.036586            2   \n",
       "road_link_2                   no  ...   7.262803 -2.196372            2   \n",
       "road_link_3               shared  ...  18.416490  1.866008            2   \n",
       "road_link_4                   no  ...   6.307702  0.000000            4   \n",
       "...                          ...  ...        ...       ...          ...   \n",
       "road_link_12493               no  ...  48.208189  2.223768            4   \n",
       "road_link_12494               no  ...  22.165195  0.930498            4   \n",
       "road_link_12495               no  ...  22.086820 -0.747063            4   \n",
       "road_link_12496               no  ...  45.435540  1.296842            4   \n",
       "road_link_12497               no  ...  39.362529 -0.554820            4   \n",
       "\n",
       "                 route_color    speed_r  lanes_r              name_r  \\\n",
       "index                                                                  \n",
       "road_link_0           808080        NaN      NaN                 NaN   \n",
       "road_link_1           808080        NaN      NaN                 NaN   \n",
       "road_link_2           808080  38.772474      2.0   Rue Dina-Bélanger   \n",
       "road_link_3           808080  30.000000      2.0  Rue De Maisonneuve   \n",
       "road_link_4           FCD6A4        NaN      NaN                 NaN   \n",
       "...                      ...        ...      ...                 ...   \n",
       "road_link_12493       E892A2        NaN      NaN                 NaN   \n",
       "road_link_12494       E892A2        NaN      NaN                 NaN   \n",
       "road_link_12495       E892A2        NaN      NaN                 NaN   \n",
       "road_link_12496       E892A2        NaN      NaN                 NaN   \n",
       "road_link_12497       E892A2        NaN      NaN                 NaN   \n",
       "\n",
       "                surface_r     time_r  \\\n",
       "index                                  \n",
       "road_link_0           NaN        NaN   \n",
       "road_link_1           NaN        NaN   \n",
       "road_link_2       asphalt   7.262803   \n",
       "road_link_3       asphalt  18.416490   \n",
       "road_link_4           NaN        NaN   \n",
       "...                   ...        ...   \n",
       "road_link_12493       NaN        NaN   \n",
       "road_link_12494       NaN        NaN   \n",
       "road_link_12495       NaN        NaN   \n",
       "road_link_12496       NaN        NaN   \n",
       "road_link_12497       NaN        NaN   \n",
       "\n",
       "                                                          geometry  \n",
       "index                                                               \n",
       "road_link_0      LINESTRING (-71.23089 46.82516, -71.23042 46.8...  \n",
       "road_link_1      LINESTRING (-71.22443 46.80920, -71.22403 46.8...  \n",
       "road_link_2      LINESTRING (-71.25063 46.78553, -71.25045 46.7...  \n",
       "road_link_3      LINESTRING (-71.22494 46.80448, -71.22369 46.8...  \n",
       "road_link_4      LINESTRING (-71.25305 46.81402, -71.25282 46.8...  \n",
       "...                                                            ...  \n",
       "road_link_12493  LINESTRING (-71.33864 46.85090, -71.33893 46.8...  \n",
       "road_link_12494  LINESTRING (-71.27538 46.77401, -71.27548 46.7...  \n",
       "road_link_12495  LINESTRING (-71.27802 46.77610, -71.27766 46.7...  \n",
       "road_link_12496  LINESTRING (-71.30482 46.83135, -71.30634 46.8...  \n",
       "road_link_12497  LINESTRING (-71.31978 46.83864, -71.31935 46.8...  \n",
       "\n",
       "[12498 rows x 21 columns]"
      ]
     },
     "execution_count": 75,
     "metadata": {},
     "output_type": "execute_result"
    }
   ],
   "source": [
    "links"
   ]
  },
  {
   "cell_type": "code",
   "execution_count": 76,
   "id": "972d8b44",
   "metadata": {},
   "outputs": [],
   "source": [
    "# split quenedi road links\n",
    "self = RoadModel(links,nodes,zones,ff_time_col='time')"
   ]
  },
  {
   "cell_type": "code",
   "execution_count": 77,
   "id": "ae842aa0",
   "metadata": {},
   "outputs": [
    {
     "name": "stdout",
     "output_type": "stream",
     "text": [
      "split rlinks to oneways\n"
     ]
    }
   ],
   "source": [
    "\n",
    "print('split rlinks to oneways')\n",
    "self.split_quenedi_rlinks()\n",
    "#self.zones_nearest_node()"
   ]
  },
  {
   "cell_type": "code",
   "execution_count": 78,
   "id": "0640913f",
   "metadata": {},
   "outputs": [],
   "source": [
    "links = self.road_links\n",
    "del self"
   ]
  },
  {
   "cell_type": "code",
   "execution_count": null,
   "id": "1bcc60c3",
   "metadata": {},
   "outputs": [],
   "source": []
  },
  {
   "cell_type": "code",
   "execution_count": null,
   "id": "3e64b123",
   "metadata": {},
   "outputs": [],
   "source": []
  },
  {
   "cell_type": "markdown",
   "id": "2f0ffc54",
   "metadata": {},
   "source": [
    "# tag cycleways"
   ]
  },
  {
   "cell_type": "code",
   "execution_count": 79,
   "id": "245dae87",
   "metadata": {},
   "outputs": [],
   "source": [
    "\n",
    "index = [idx for idx in links.index if not idx.endswith('_r')]\n",
    "index_r = [idx for idx in links.index if idx.endswith('_r')]\n",
    "assert len(index)+len(index_r) == len(links)\n",
    "\n",
    "links['isroad'] = True\n",
    "ls = links.loc[index].loc[links['cycleway'].isin(['yes','shared'])].index\n",
    "links.loc[ls,'isroad'] = False\n",
    "ls = links.loc[index_r].loc[links['cycleway_reverse'].isin(['yes','shared'])].index\n",
    "links.loc[ls,'isroad'] = False\n"
   ]
  },
  {
   "cell_type": "markdown",
   "id": "88338a7e",
   "metadata": {},
   "source": [
    "# inclines"
   ]
  },
  {
   "cell_type": "code",
   "execution_count": 80,
   "id": "534437c0",
   "metadata": {},
   "outputs": [],
   "source": [
    "links['incline'] = links['incline'].astype(float)\n",
    "links['incline'] = links['incline'].fillna(0)\n"
   ]
  },
  {
   "cell_type": "code",
   "execution_count": 81,
   "id": "5284d475",
   "metadata": {},
   "outputs": [],
   "source": [
    "# reverse incline on reversed links\n",
    "links.loc[index_r,'incline'] = -links.loc[index_r,'incline']\n",
    "#create this column for vizualisation\n",
    "links['incline (abs)'] = abs(links['incline'])"
   ]
  },
  {
   "cell_type": "code",
   "execution_count": null,
   "id": "2cd0830f",
   "metadata": {},
   "outputs": [],
   "source": []
  },
  {
   "cell_type": "markdown",
   "id": "5588921e",
   "metadata": {},
   "source": [
    "# apply Weight"
   ]
  },
  {
   "cell_type": "code",
   "execution_count": null,
   "id": "374e3281",
   "metadata": {},
   "outputs": [],
   "source": []
  },
  {
   "cell_type": "code",
   "execution_count": 82,
   "id": "a86d178b",
   "metadata": {},
   "outputs": [],
   "source": [
    "# incline weigth (starting point)\n",
    "links['eff_speed'] = 20  * (1 - cst_incline * np.sin(np.deg2rad(links['incline'])))\n"
   ]
  },
  {
   "cell_type": "code",
   "execution_count": 83,
   "id": "93500c47",
   "metadata": {},
   "outputs": [],
   "source": [
    "# derate it with road weight\n",
    "links['cst_road'] = links['highway'].apply(lambda x: cst_road.get(x,1))\n",
    "links.loc[links['isroad'],'eff_speed'] = links.loc[links['isroad'],'eff_speed'] * links.loc[links['isroad'],'cst_road']"
   ]
  },
  {
   "cell_type": "code",
   "execution_count": 84,
   "id": "19f9e609",
   "metadata": {},
   "outputs": [],
   "source": [
    "# derate it with shared cycleway weight\n",
    "links['cst_shared'] = links['highway'].apply(lambda x: cst_shared.get(x,1))\n",
    "\n",
    "ls = links.loc[index].loc[links['cycleway']=='shared'].index\n",
    "links.loc[ls,'eff_speed'] = links.loc[ls,'eff_speed'] * links.loc[ls,'cst_shared']\n",
    "\n",
    "ls = links.loc[index_r].loc[links['cycleway_reverse']=='shared'].index\n",
    "links.loc[ls,'eff_speed'] = links.loc[ls,'eff_speed'] * links.loc[ls,'cst_shared']"
   ]
  },
  {
   "cell_type": "markdown",
   "id": "9b554b1c",
   "metadata": {},
   "source": [
    "transform effective speed to a weight"
   ]
  },
  {
   "cell_type": "code",
   "execution_count": 85,
   "id": "e65c1ce6",
   "metadata": {},
   "outputs": [],
   "source": [
    "# anything with neg speed round to 0. (dijkstra need positive weight)\n",
    "links['eff_speed'] = links['eff_speed'].apply(lambda x : max(x,0))"
   ]
  },
  {
   "cell_type": "code",
   "execution_count": 86,
   "id": "fb4e8fd6",
   "metadata": {},
   "outputs": [],
   "source": [
    "links['weight'] = links['length']/(links['eff_speed']*1000/3600)"
   ]
  },
  {
   "cell_type": "code",
   "execution_count": 87,
   "id": "b2e71f9c",
   "metadata": {},
   "outputs": [],
   "source": [
    "links = links.drop(columns=['cst_road','cst_shared'])"
   ]
  },
  {
   "cell_type": "markdown",
   "id": "aac74cfc",
   "metadata": {},
   "source": [
    "# zone to nodes"
   ]
  },
  {
   "cell_type": "markdown",
   "id": "e6cfd282",
   "metadata": {},
   "source": [
    "get the list of nodes with weight != inf. we do not want to route from or to nodes that are not cycle (ex motorway)"
   ]
  },
  {
   "cell_type": "code",
   "execution_count": 88,
   "id": "9d23cc15",
   "metadata": {},
   "outputs": [],
   "source": [
    "tlinks = links[np.isfinite(links['weight'])][['a','b']]\n",
    "nodes_set = set(tlinks['a']).union(set(tlinks['b']))\n",
    "possible_nodes = nodes.loc[list(nodes_set)].sort_index()\n",
    "del tlinks,nodes_set"
   ]
  },
  {
   "cell_type": "code",
   "execution_count": 89,
   "id": "9d7f21c2",
   "metadata": {},
   "outputs": [
    {
     "name": "stderr",
     "output_type": "stream",
     "text": [
      "/tmp/ipykernel_184022/3645094334.py:28: UserWarning: Geometry is in a geographic CRS. Results from 'centroid' are likely incorrect. Use 'GeoSeries.to_crs()' to re-project geometries to a projected CRS before this operation.\n",
      "\n",
      "  centroid['geometry'] = centroid.centroid\n"
     ]
    },
    {
     "name": "stdout",
     "output_type": "stream",
     "text": [
      "max_distance found:  0.022534254147859218\n"
     ]
    }
   ],
   "source": [
    "zones = zones_nearest_node(zones, possible_nodes)"
   ]
  },
  {
   "cell_type": "markdown",
   "id": "2bb00df2",
   "metadata": {},
   "source": [
    "# Shortest path + volume assignment"
   ]
  },
  {
   "cell_type": "code",
   "execution_count": null,
   "id": "91ece518",
   "metadata": {},
   "outputs": [],
   "source": []
  },
  {
   "cell_type": "code",
   "execution_count": 90,
   "id": "b51bbdfc",
   "metadata": {},
   "outputs": [],
   "source": [
    "zones_nodes_dict = zones['node_index'].to_dict()\n",
    "demand['o_zone'] = demand['origin']\n",
    "demand['d_zone'] = demand['destination']\n",
    "demand['origin'] = demand['origin'].apply(lambda x: zones_nodes_dict.get(x))\n",
    "demand['destination'] = demand['destination'].apply(lambda x: zones_nodes_dict.get(x))"
   ]
  },
  {
   "cell_type": "code",
   "execution_count": null,
   "id": "3ef76a22",
   "metadata": {},
   "outputs": [],
   "source": []
  },
  {
   "cell_type": "code",
   "execution_count": 91,
   "id": "47785fef",
   "metadata": {},
   "outputs": [],
   "source": [
    "df = links[['a', 'b','weight']].copy()"
   ]
  },
  {
   "cell_type": "code",
   "execution_count": 92,
   "id": "ea0b18c9",
   "metadata": {},
   "outputs": [
    {
     "name": "stdout",
     "output_type": "stream",
     "text": [
      "316 links dropped\n"
     ]
    }
   ],
   "source": [
    "df, dropped = drop_duplicated_links(df,sort_column='weight',ascending=False)"
   ]
  },
  {
   "cell_type": "code",
   "execution_count": 93,
   "id": "f43aecdc",
   "metadata": {},
   "outputs": [],
   "source": [
    "edges = df[['a', 'b', 'weight']].values  # to build the index once and for all\n",
    "index = build_index(edges)\n",
    "reversed_index = {v: k for k, v in index.items()}\n",
    "# apply sparse index on zones\n",
    "demand, zones_indices = get_zone_index(df, demand, index)"
   ]
  },
  {
   "cell_type": "code",
   "execution_count": 94,
   "id": "484da8b7",
   "metadata": {},
   "outputs": [],
   "source": [
    "# apply sparse index on links\n",
    "df['sparse_a'] = df['a'].apply(lambda x: index.get(x))\n",
    "df['sparse_b'] = df['b'].apply(lambda x: index.get(x))\n",
    "volumes_sparse_keys = list(zip(df['sparse_a'],df['sparse_b']))\n",
    "\n",
    "odv = demand[['o', 'd', 'volume']].values"
   ]
  },
  {
   "cell_type": "code",
   "execution_count": 95,
   "id": "bf84a7a2",
   "metadata": {},
   "outputs": [],
   "source": [
    "edges = df[['a', 'b', 'weight']].values\n",
    "sparse, _ = sparse_matrix(edges, index=index)\n",
    "time_matrix, predecessors = parallel_dijkstra(sparse,\n",
    "                                              directed=True,\n",
    "                                              indices=zones_indices,\n",
    "                                              return_predecessors=True,\n",
    "                                              num_core=num_cores,\n",
    "                                              keep_running=True)\n",
    "\n",
    "# this give OD_time/time_matrix on each links. then X links time for the ratio links_time/tot_time\n"
   ]
  },
  {
   "cell_type": "code",
   "execution_count": 96,
   "id": "e40870a5",
   "metadata": {},
   "outputs": [],
   "source": [
    "ab_volumes = assign_volume(odv,predecessors,volumes_sparse_keys,reversed_index)"
   ]
  },
  {
   "cell_type": "markdown",
   "id": "b88f67f3",
   "metadata": {},
   "source": [
    "restrict links to df.index (dropped duplicated links). if not. volume will not be assign on the right link (when duplicated) or, maybe on both."
   ]
  },
  {
   "cell_type": "code",
   "execution_count": 97,
   "id": "b36fde43",
   "metadata": {},
   "outputs": [],
   "source": [
    "links['volume'] = 0\n",
    "links.loc[df.index,'volume'] = links.loc[df.index].set_index(['a', 'b']).index.map(ab_volumes.get)"
   ]
  },
  {
   "cell_type": "markdown",
   "id": "8df39ff5",
   "metadata": {},
   "source": [
    "# cleaning and exporting"
   ]
  },
  {
   "cell_type": "code",
   "execution_count": 98,
   "id": "b9e6cb53",
   "metadata": {},
   "outputs": [],
   "source": [
    "col_r = [col for col in links.columns if col.endswith('_r')]\n",
    "links = links.drop(columns=col_r)\n",
    "links = links.drop(columns=['isroad'])\n"
   ]
  },
  {
   "cell_type": "code",
   "execution_count": 99,
   "id": "94c53d97",
   "metadata": {},
   "outputs": [],
   "source": [
    "links.to_file(output_folder + 'loaded_links.geojson',driver='GeoJSON')"
   ]
  },
  {
   "cell_type": "code",
   "execution_count": 100,
   "id": "70c98fa0",
   "metadata": {},
   "outputs": [
    {
     "data": {
      "text/plain": [
       "25486677"
      ]
     },
     "execution_count": 100,
     "metadata": {},
     "output_type": "execute_result"
    }
   ],
   "source": [
    "links['volume'].sum()"
   ]
  },
  {
   "cell_type": "code",
   "execution_count": null,
   "id": "3f08d87e",
   "metadata": {},
   "outputs": [],
   "source": []
  },
  {
   "cell_type": "markdown",
   "id": "8d89d07f",
   "metadata": {},
   "source": [
    "# OD test"
   ]
  },
  {
   "cell_type": "code",
   "execution_count": 119,
   "id": "89facb71",
   "metadata": {},
   "outputs": [],
   "source": [
    "od_test['geometry_o'] = od_test['geometry'].apply(lambda g: Point(g.coords[:][0]))\n",
    "od_test['geometry_d'] = od_test['geometry'].apply(lambda g: Point(g.coords[:][1]))"
   ]
  },
  {
   "cell_type": "code",
   "execution_count": 120,
   "id": "0b70a4c8",
   "metadata": {},
   "outputs": [],
   "source": [
    "# find nearest node with KNN. nodes are now the origin and destination.\n",
    "od_test['geometry'] = od_test['geometry_o']\n",
    "neigh = nearest(od_test, possible_nodes, n_neighbors=1).rename(columns={'ix_one': 'zone_index', 'ix_many': 'node_index'})\n",
    "zone_node_dict = neigh.set_index('zone_index')['node_index'].to_dict()\n",
    "od_test['origin'] = od_test.index.map(zone_node_dict.get)\n",
    "\n",
    "od_test['geometry'] = od_test['geometry_d']\n",
    "neigh = nearest(od_test, possible_nodes, n_neighbors=1).rename(columns={'ix_one': 'zone_index', 'ix_many': 'node_index'})\n",
    "zone_node_dict = neigh.set_index('zone_index')['node_index'].to_dict()\n",
    "od_test['destination'] = od_test.index.map(zone_node_dict.get)\n",
    "\n",
    "od_test = od_test.drop(columns=['geometry_o','geometry_d','geometry'])"
   ]
  },
  {
   "cell_type": "code",
   "execution_count": 121,
   "id": "b004c1af",
   "metadata": {},
   "outputs": [],
   "source": [
    "o_nodes = od_test['origin'].values\n",
    "d_nodes = od_test['destination'].values\n",
    "\n",
    "time_mat, predecessors, node_index = simple_routing(o_nodes,d_nodes,links,weight_col='weight',return_predecessors=True)\n",
    "reversed_index = {v: k for k, v in node_index.items()}\n",
    "\n",
    "routes = gpd.GeoDataFrame()\n",
    "for o,d in  enumerate(od_test['destination'].values):\n",
    "    path = get_path(predecessors, o, node_index[d])\n",
    "    path = list(zip(path[:-1], path[1:]))\n",
    "\n",
    "    path = [(reversed_index[k[0]], reversed_index[k[1]]) for k in path]\n",
    "    links_dict = links.reset_index().set_index(['a','b'])['index'].to_dict()\n",
    "    path = [*map(links_dict.get,path)]\n",
    "\n",
    "    route = links.loc[path]\n",
    "    route['od_name'] =  od_test.iloc[o]['name']\n",
    "    routes = pd.concat([routes,route])"
   ]
  },
  {
   "cell_type": "code",
   "execution_count": 122,
   "id": "8985ddf5",
   "metadata": {},
   "outputs": [],
   "source": [
    "routes.to_file(output_folder + 'od_routes.geojson',driver='GeoJSON')"
   ]
  },
  {
   "cell_type": "code",
   "execution_count": null,
   "id": "560f8f6f",
   "metadata": {},
   "outputs": [],
   "source": []
  },
  {
   "cell_type": "markdown",
   "id": "945c9663",
   "metadata": {},
   "source": [
    "# end"
   ]
  },
  {
   "cell_type": "markdown",
   "id": "0f6522ef",
   "metadata": {},
   "source": [
    "# merging"
   ]
  },
  {
   "cell_type": "code",
   "execution_count": 107,
   "id": "228b5931",
   "metadata": {},
   "outputs": [
    {
     "data": {
      "text/plain": [
       "\"\\ndef merge_quenedi_rlinks(road_links,new_col):\\n    if 'oneway' not in road_links.columns:\\n        print('no column oneway. do not merge')\\n        return\\n    #get reversed links\\n    index_r = [idx for idx in road_links.index if idx.endswith('_r')]\\n    if len(index_r) == 0:\\n        print('all oneway, nothing to merge')\\n        return\\n    links_r = road_links.loc[index_r].copy()\\n    # create new reversed column with here speed and time\\n    links_r[new_col + '_r'] = links_r[new_col]\\n    # reindex with initial non _r index to merge\\n    links_r.index = links_r.index.map(lambda x: x[:-2])\\n    links_r = links_r[[new_col + '_r']]\\n    # drop added _r links, merge new here columns to inital two way links.\\n    road_links = road_links.drop(index_r, axis=0)\\n    # drop column if they exist before merge. dont want duplicates\\n    if new_col + '_r' in road_links.columns:\\n        road_links = road_links.drop(columns=new_col + '_r')\\n    road_links = pd.merge(road_links, links_r, left_index=True, right_index\\n                                =True, how='left')\\n    return road_links\\n\""
      ]
     },
     "execution_count": 107,
     "metadata": {},
     "output_type": "execute_result"
    }
   ],
   "source": [
    "'''\n",
    "def merge_quenedi_rlinks(road_links,new_col):\n",
    "    if 'oneway' not in road_links.columns:\n",
    "        print('no column oneway. do not merge')\n",
    "        return\n",
    "    #get reversed links\n",
    "    index_r = [idx for idx in road_links.index if idx.endswith('_r')]\n",
    "    if len(index_r) == 0:\n",
    "        print('all oneway, nothing to merge')\n",
    "        return\n",
    "    links_r = road_links.loc[index_r].copy()\n",
    "    # create new reversed column with here speed and time\n",
    "    links_r[new_col + '_r'] = links_r[new_col]\n",
    "    # reindex with initial non _r index to merge\n",
    "    links_r.index = links_r.index.map(lambda x: x[:-2])\n",
    "    links_r = links_r[[new_col + '_r']]\n",
    "    # drop added _r links, merge new here columns to inital two way links.\n",
    "    road_links = road_links.drop(index_r, axis=0)\n",
    "    # drop column if they exist before merge. dont want duplicates\n",
    "    if new_col + '_r' in road_links.columns:\n",
    "        road_links = road_links.drop(columns=new_col + '_r')\n",
    "    road_links = pd.merge(road_links, links_r, left_index=True, right_index\n",
    "                                =True, how='left')\n",
    "    return road_links\n",
    "'''"
   ]
  },
  {
   "cell_type": "code",
   "execution_count": 108,
   "id": "76aa32c6",
   "metadata": {},
   "outputs": [],
   "source": [
    "#links = merge_quenedi_rlinks(links,'volume')"
   ]
  },
  {
   "cell_type": "markdown",
   "id": "11dfe2fb",
   "metadata": {},
   "source": [
    "# test"
   ]
  }
 ],
 "metadata": {
  "kernelspec": {
   "display_name": "Python 3 (ipykernel)",
   "language": "python",
   "name": "python3"
  },
  "language_info": {
   "codemirror_mode": {
    "name": "ipython",
    "version": 3
   },
   "file_extension": ".py",
   "mimetype": "text/x-python",
   "name": "python",
   "nbconvert_exporter": "python",
   "pygments_lexer": "ipython3",
   "version": "3.8.6"
  }
 },
 "nbformat": 4,
 "nbformat_minor": 5
}
